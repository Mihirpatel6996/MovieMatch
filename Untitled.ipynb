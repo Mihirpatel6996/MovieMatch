{
 "cells": [
  {
   "cell_type": "code",
   "execution_count": 1,
   "id": "07762b3d-a54d-4c7e-8b53-d71573ae6201",
   "metadata": {},
   "outputs": [],
   "source": [
    "import pandas as pd\n",
    "import numpy as np\n",
    "import ast"
   ]
  },
  {
   "cell_type": "markdown",
   "id": "dd74d0e8-4d23-487d-a068-8a390981c13e",
   "metadata": {},
   "source": [
    "# importing the data"
   ]
  },
  {
   "cell_type": "code",
   "execution_count": 2,
   "id": "01cca881-9b17-42e6-b661-32df1adffc9c",
   "metadata": {},
   "outputs": [],
   "source": [
    "movies_data = pd.read_csv('dataset/tmdb_5000_movies.csv')\n",
    "credits_data = pd.read_csv('dataset/tmdb_5000_credits.csv')"
   ]
  },
  {
   "cell_type": "code",
   "execution_count": 3,
   "id": "85abfac5-c07a-431c-936b-2a1f376f947e",
   "metadata": {},
   "outputs": [
    {
     "data": {
      "text/html": [
       "<div>\n",
       "<style scoped>\n",
       "    .dataframe tbody tr th:only-of-type {\n",
       "        vertical-align: middle;\n",
       "    }\n",
       "\n",
       "    .dataframe tbody tr th {\n",
       "        vertical-align: top;\n",
       "    }\n",
       "\n",
       "    .dataframe thead th {\n",
       "        text-align: right;\n",
       "    }\n",
       "</style>\n",
       "<table border=\"1\" class=\"dataframe\">\n",
       "  <thead>\n",
       "    <tr style=\"text-align: right;\">\n",
       "      <th></th>\n",
       "      <th>budget</th>\n",
       "      <th>genres</th>\n",
       "      <th>homepage</th>\n",
       "      <th>id</th>\n",
       "      <th>keywords</th>\n",
       "      <th>original_language</th>\n",
       "      <th>original_title</th>\n",
       "      <th>overview</th>\n",
       "      <th>popularity</th>\n",
       "      <th>production_companies</th>\n",
       "      <th>production_countries</th>\n",
       "      <th>release_date</th>\n",
       "      <th>revenue</th>\n",
       "      <th>runtime</th>\n",
       "      <th>spoken_languages</th>\n",
       "      <th>status</th>\n",
       "      <th>tagline</th>\n",
       "      <th>title</th>\n",
       "      <th>vote_average</th>\n",
       "      <th>vote_count</th>\n",
       "    </tr>\n",
       "  </thead>\n",
       "  <tbody>\n",
       "    <tr>\n",
       "      <th>0</th>\n",
       "      <td>237000000</td>\n",
       "      <td>[{\"id\": 28, \"name\": \"Action\"}, {\"id\": 12, \"nam...</td>\n",
       "      <td>http://www.avatarmovie.com/</td>\n",
       "      <td>19995</td>\n",
       "      <td>[{\"id\": 1463, \"name\": \"culture clash\"}, {\"id\":...</td>\n",
       "      <td>en</td>\n",
       "      <td>Avatar</td>\n",
       "      <td>In the 22nd century, a paraplegic Marine is di...</td>\n",
       "      <td>150.437577</td>\n",
       "      <td>[{\"name\": \"Ingenious Film Partners\", \"id\": 289...</td>\n",
       "      <td>[{\"iso_3166_1\": \"US\", \"name\": \"United States o...</td>\n",
       "      <td>2009-12-10</td>\n",
       "      <td>2787965087</td>\n",
       "      <td>162.0</td>\n",
       "      <td>[{\"iso_639_1\": \"en\", \"name\": \"English\"}, {\"iso...</td>\n",
       "      <td>Released</td>\n",
       "      <td>Enter the World of Pandora.</td>\n",
       "      <td>Avatar</td>\n",
       "      <td>7.2</td>\n",
       "      <td>11800</td>\n",
       "    </tr>\n",
       "  </tbody>\n",
       "</table>\n",
       "</div>"
      ],
      "text/plain": [
       "      budget                                             genres  \\\n",
       "0  237000000  [{\"id\": 28, \"name\": \"Action\"}, {\"id\": 12, \"nam...   \n",
       "\n",
       "                      homepage     id  \\\n",
       "0  http://www.avatarmovie.com/  19995   \n",
       "\n",
       "                                            keywords original_language  \\\n",
       "0  [{\"id\": 1463, \"name\": \"culture clash\"}, {\"id\":...                en   \n",
       "\n",
       "  original_title                                           overview  \\\n",
       "0         Avatar  In the 22nd century, a paraplegic Marine is di...   \n",
       "\n",
       "   popularity                               production_companies  \\\n",
       "0  150.437577  [{\"name\": \"Ingenious Film Partners\", \"id\": 289...   \n",
       "\n",
       "                                production_countries release_date     revenue  \\\n",
       "0  [{\"iso_3166_1\": \"US\", \"name\": \"United States o...   2009-12-10  2787965087   \n",
       "\n",
       "   runtime                                   spoken_languages    status  \\\n",
       "0    162.0  [{\"iso_639_1\": \"en\", \"name\": \"English\"}, {\"iso...  Released   \n",
       "\n",
       "                       tagline   title  vote_average  vote_count  \n",
       "0  Enter the World of Pandora.  Avatar           7.2       11800  "
      ]
     },
     "execution_count": 3,
     "metadata": {},
     "output_type": "execute_result"
    }
   ],
   "source": [
    "movies_data.head(1)"
   ]
  },
  {
   "cell_type": "code",
   "execution_count": 4,
   "id": "e41d8083-f665-4456-9bc5-0a663cd87266",
   "metadata": {},
   "outputs": [
    {
     "data": {
      "text/html": [
       "<div>\n",
       "<style scoped>\n",
       "    .dataframe tbody tr th:only-of-type {\n",
       "        vertical-align: middle;\n",
       "    }\n",
       "\n",
       "    .dataframe tbody tr th {\n",
       "        vertical-align: top;\n",
       "    }\n",
       "\n",
       "    .dataframe thead th {\n",
       "        text-align: right;\n",
       "    }\n",
       "</style>\n",
       "<table border=\"1\" class=\"dataframe\">\n",
       "  <thead>\n",
       "    <tr style=\"text-align: right;\">\n",
       "      <th></th>\n",
       "      <th>movie_id</th>\n",
       "      <th>title</th>\n",
       "      <th>cast</th>\n",
       "      <th>crew</th>\n",
       "    </tr>\n",
       "  </thead>\n",
       "  <tbody>\n",
       "    <tr>\n",
       "      <th>0</th>\n",
       "      <td>19995</td>\n",
       "      <td>Avatar</td>\n",
       "      <td>[{\"cast_id\": 242, \"character\": \"Jake Sully\", \"...</td>\n",
       "      <td>[{\"credit_id\": \"52fe48009251416c750aca23\", \"de...</td>\n",
       "    </tr>\n",
       "  </tbody>\n",
       "</table>\n",
       "</div>"
      ],
      "text/plain": [
       "   movie_id   title                                               cast  \\\n",
       "0     19995  Avatar  [{\"cast_id\": 242, \"character\": \"Jake Sully\", \"...   \n",
       "\n",
       "                                                crew  \n",
       "0  [{\"credit_id\": \"52fe48009251416c750aca23\", \"de...  "
      ]
     },
     "execution_count": 4,
     "metadata": {},
     "output_type": "execute_result"
    }
   ],
   "source": [
    "credits_data.head(1)"
   ]
  },
  {
   "cell_type": "code",
   "execution_count": 5,
   "id": "36ebd224-0e40-4180-a189-14a19eb17f59",
   "metadata": {},
   "outputs": [
    {
     "data": {
      "text/plain": [
       "(4803, 20)"
      ]
     },
     "execution_count": 5,
     "metadata": {},
     "output_type": "execute_result"
    }
   ],
   "source": [
    "movies_data.shape"
   ]
  },
  {
   "cell_type": "code",
   "execution_count": 6,
   "id": "9cf46381-d7f9-438c-b648-f7f7a9fa3afe",
   "metadata": {},
   "outputs": [
    {
     "data": {
      "text/plain": [
       "(4803, 4)"
      ]
     },
     "execution_count": 6,
     "metadata": {},
     "output_type": "execute_result"
    }
   ],
   "source": [
    "\n",
    "credits_data.shape"
   ]
  },
  {
   "cell_type": "code",
   "execution_count": 7,
   "id": "dad71354-eb0e-42e1-86fd-366a221ffd1d",
   "metadata": {},
   "outputs": [],
   "source": [
    "movies = movies_data.merge(credits_data , on = 'title')"
   ]
  },
  {
   "cell_type": "code",
   "execution_count": 8,
   "id": "369c3385-6c03-4f8c-b505-111b4420e8e5",
   "metadata": {},
   "outputs": [
    {
     "data": {
      "text/plain": [
       "(4809, 23)"
      ]
     },
     "execution_count": 8,
     "metadata": {},
     "output_type": "execute_result"
    }
   ],
   "source": [
    "movies.shape"
   ]
  },
  {
   "cell_type": "code",
   "execution_count": 9,
   "id": "3b9813f7-f423-44a3-ab2e-5ec854c3c34e",
   "metadata": {},
   "outputs": [
    {
     "data": {
      "text/html": [
       "<div>\n",
       "<style scoped>\n",
       "    .dataframe tbody tr th:only-of-type {\n",
       "        vertical-align: middle;\n",
       "    }\n",
       "\n",
       "    .dataframe tbody tr th {\n",
       "        vertical-align: top;\n",
       "    }\n",
       "\n",
       "    .dataframe thead th {\n",
       "        text-align: right;\n",
       "    }\n",
       "</style>\n",
       "<table border=\"1\" class=\"dataframe\">\n",
       "  <thead>\n",
       "    <tr style=\"text-align: right;\">\n",
       "      <th></th>\n",
       "      <th>budget</th>\n",
       "      <th>genres</th>\n",
       "      <th>homepage</th>\n",
       "      <th>id</th>\n",
       "      <th>keywords</th>\n",
       "      <th>original_language</th>\n",
       "      <th>original_title</th>\n",
       "      <th>overview</th>\n",
       "      <th>popularity</th>\n",
       "      <th>production_companies</th>\n",
       "      <th>...</th>\n",
       "      <th>runtime</th>\n",
       "      <th>spoken_languages</th>\n",
       "      <th>status</th>\n",
       "      <th>tagline</th>\n",
       "      <th>title</th>\n",
       "      <th>vote_average</th>\n",
       "      <th>vote_count</th>\n",
       "      <th>movie_id</th>\n",
       "      <th>cast</th>\n",
       "      <th>crew</th>\n",
       "    </tr>\n",
       "  </thead>\n",
       "  <tbody>\n",
       "    <tr>\n",
       "      <th>0</th>\n",
       "      <td>237000000</td>\n",
       "      <td>[{\"id\": 28, \"name\": \"Action\"}, {\"id\": 12, \"nam...</td>\n",
       "      <td>http://www.avatarmovie.com/</td>\n",
       "      <td>19995</td>\n",
       "      <td>[{\"id\": 1463, \"name\": \"culture clash\"}, {\"id\":...</td>\n",
       "      <td>en</td>\n",
       "      <td>Avatar</td>\n",
       "      <td>In the 22nd century, a paraplegic Marine is di...</td>\n",
       "      <td>150.437577</td>\n",
       "      <td>[{\"name\": \"Ingenious Film Partners\", \"id\": 289...</td>\n",
       "      <td>...</td>\n",
       "      <td>162.0</td>\n",
       "      <td>[{\"iso_639_1\": \"en\", \"name\": \"English\"}, {\"iso...</td>\n",
       "      <td>Released</td>\n",
       "      <td>Enter the World of Pandora.</td>\n",
       "      <td>Avatar</td>\n",
       "      <td>7.2</td>\n",
       "      <td>11800</td>\n",
       "      <td>19995</td>\n",
       "      <td>[{\"cast_id\": 242, \"character\": \"Jake Sully\", \"...</td>\n",
       "      <td>[{\"credit_id\": \"52fe48009251416c750aca23\", \"de...</td>\n",
       "    </tr>\n",
       "  </tbody>\n",
       "</table>\n",
       "<p>1 rows × 23 columns</p>\n",
       "</div>"
      ],
      "text/plain": [
       "      budget                                             genres  \\\n",
       "0  237000000  [{\"id\": 28, \"name\": \"Action\"}, {\"id\": 12, \"nam...   \n",
       "\n",
       "                      homepage     id  \\\n",
       "0  http://www.avatarmovie.com/  19995   \n",
       "\n",
       "                                            keywords original_language  \\\n",
       "0  [{\"id\": 1463, \"name\": \"culture clash\"}, {\"id\":...                en   \n",
       "\n",
       "  original_title                                           overview  \\\n",
       "0         Avatar  In the 22nd century, a paraplegic Marine is di...   \n",
       "\n",
       "   popularity                               production_companies  ... runtime  \\\n",
       "0  150.437577  [{\"name\": \"Ingenious Film Partners\", \"id\": 289...  ...   162.0   \n",
       "\n",
       "                                    spoken_languages    status  \\\n",
       "0  [{\"iso_639_1\": \"en\", \"name\": \"English\"}, {\"iso...  Released   \n",
       "\n",
       "                       tagline   title vote_average vote_count movie_id  \\\n",
       "0  Enter the World of Pandora.  Avatar          7.2      11800    19995   \n",
       "\n",
       "                                                cast  \\\n",
       "0  [{\"cast_id\": 242, \"character\": \"Jake Sully\", \"...   \n",
       "\n",
       "                                                crew  \n",
       "0  [{\"credit_id\": \"52fe48009251416c750aca23\", \"de...  \n",
       "\n",
       "[1 rows x 23 columns]"
      ]
     },
     "execution_count": 9,
     "metadata": {},
     "output_type": "execute_result"
    }
   ],
   "source": [
    "movies.head(1)"
   ]
  },
  {
   "cell_type": "markdown",
   "id": "92eba61d-a222-4240-b4bc-06a33a9af12c",
   "metadata": {},
   "source": [
    " removing columns which are not useful for our project \n",
    " "
   ]
  },
  {
   "cell_type": "code",
   "execution_count": 10,
   "id": "7c935d23-6536-47d1-bdbe-6a2fd17ee327",
   "metadata": {},
   "outputs": [],
   "source": [
    "# useful columns - geners , id, keywords, overview, cast, title, crew\n",
    "# remaining columns - budget,homepagge,original_language,original_title,popularity,production_companies, production_countries, release_dates,\n",
    "## revenue, runtime, spoken_languages, status, tagline, vote_avegrage, vote_count,movie_id"
   ]
  },
  {
   "cell_type": "code",
   "execution_count": 11,
   "id": "2f2d82ff-b88c-4a39-aa6c-ac10e88abf49",
   "metadata": {},
   "outputs": [
    {
     "name": "stdout",
     "output_type": "stream",
     "text": [
      "<class 'pandas.core.frame.DataFrame'>\n",
      "RangeIndex: 4809 entries, 0 to 4808\n",
      "Data columns (total 23 columns):\n",
      " #   Column                Non-Null Count  Dtype  \n",
      "---  ------                --------------  -----  \n",
      " 0   budget                4809 non-null   int64  \n",
      " 1   genres                4809 non-null   object \n",
      " 2   homepage              1713 non-null   object \n",
      " 3   id                    4809 non-null   int64  \n",
      " 4   keywords              4809 non-null   object \n",
      " 5   original_language     4809 non-null   object \n",
      " 6   original_title        4809 non-null   object \n",
      " 7   overview              4806 non-null   object \n",
      " 8   popularity            4809 non-null   float64\n",
      " 9   production_companies  4809 non-null   object \n",
      " 10  production_countries  4809 non-null   object \n",
      " 11  release_date          4808 non-null   object \n",
      " 12  revenue               4809 non-null   int64  \n",
      " 13  runtime               4807 non-null   float64\n",
      " 14  spoken_languages      4809 non-null   object \n",
      " 15  status                4809 non-null   object \n",
      " 16  tagline               3965 non-null   object \n",
      " 17  title                 4809 non-null   object \n",
      " 18  vote_average          4809 non-null   float64\n",
      " 19  vote_count            4809 non-null   int64  \n",
      " 20  movie_id              4809 non-null   int64  \n",
      " 21  cast                  4809 non-null   object \n",
      " 22  crew                  4809 non-null   object \n",
      "dtypes: float64(3), int64(5), object(15)\n",
      "memory usage: 864.2+ KB\n"
     ]
    }
   ],
   "source": [
    "movies.info()"
   ]
  },
  {
   "cell_type": "code",
   "execution_count": 12,
   "id": "c0b83a63-1806-4f52-9830-03656d41d54a",
   "metadata": {},
   "outputs": [],
   "source": [
    "movies = movies[['movie_id', 'title', 'overview', 'genres', 'keywords', 'cast', 'crew']]"
   ]
  },
  {
   "cell_type": "markdown",
   "id": "ffffb67b-1dfd-461b-9bfb-7b94933db01e",
   "metadata": {},
   "source": [
    "# data preprocessing"
   ]
  },
  {
   "cell_type": "code",
   "execution_count": 13,
   "id": "1afd69ec-95ea-4bb8-97e7-55b1e0190174",
   "metadata": {},
   "outputs": [
    {
     "data": {
      "text/plain": [
       "movie_id    0\n",
       "title       0\n",
       "overview    3\n",
       "genres      0\n",
       "keywords    0\n",
       "cast        0\n",
       "crew        0\n",
       "dtype: int64"
      ]
     },
     "execution_count": 13,
     "metadata": {},
     "output_type": "execute_result"
    }
   ],
   "source": [
    "movies.isnull().sum()"
   ]
  },
  {
   "cell_type": "code",
   "execution_count": 14,
   "id": "9d6e32ae-00d9-473a-8920-fc9ae693246f",
   "metadata": {},
   "outputs": [],
   "source": [
    "movies.dropna(inplace = True)"
   ]
  },
  {
   "cell_type": "code",
   "execution_count": 15,
   "id": "18184231-4141-43e4-97c8-16a51a1d1be1",
   "metadata": {},
   "outputs": [
    {
     "data": {
      "text/plain": [
       "0"
      ]
     },
     "execution_count": 15,
     "metadata": {},
     "output_type": "execute_result"
    }
   ],
   "source": [
    "movies.duplicated().sum()"
   ]
  },
  {
   "cell_type": "code",
   "execution_count": 16,
   "id": "72054db9-3b5a-4f74-8189-e62fce5dfd28",
   "metadata": {},
   "outputs": [
    {
     "data": {
      "text/plain": [
       "'[{\"id\": 28, \"name\": \"Action\"}, {\"id\": 12, \"name\": \"Adventure\"}, {\"id\": 14, \"name\": \"Fantasy\"}, {\"id\": 878, \"name\": \"Science Fiction\"}]'"
      ]
     },
     "execution_count": 16,
     "metadata": {},
     "output_type": "execute_result"
    }
   ],
   "source": [
    "movies.iloc[0].genres"
   ]
  },
  {
   "cell_type": "code",
   "execution_count": 17,
   "id": "8fb2e2b8-77d8-449b-9a68-0629aadaaca8",
   "metadata": {},
   "outputs": [],
   "source": [
    "def convert(obj):\n",
    "    l=[]\n",
    "    for i in ast.literal_eval(obj):\n",
    "        l.append(i['name'])\n",
    "    return l"
   ]
  },
  {
   "cell_type": "code",
   "execution_count": 18,
   "id": "d92f8c2b-9f06-410f-9bcb-568c222690d8",
   "metadata": {},
   "outputs": [
    {
     "data": {
      "text/plain": [
       "[{'id': 28, 'name': 'Action'},\n",
       " {'id': 12, 'name': 'Adventure'},\n",
       " {'id': 14, 'name': 'Fantasy'},\n",
       " {'id': 878, 'name': 'Science Fiction'}]"
      ]
     },
     "execution_count": 18,
     "metadata": {},
     "output_type": "execute_result"
    }
   ],
   "source": [
    "ast.literal_eval(movies.iloc[0].genres) # basically this function is used to remove the string "
   ]
  },
  {
   "cell_type": "code",
   "execution_count": 19,
   "id": "5393852b-187b-4460-9c33-d0d24aa00485",
   "metadata": {},
   "outputs": [
    {
     "data": {
      "text/plain": [
       "['Action', 'Adventure', 'Fantasy', 'Science Fiction']"
      ]
     },
     "execution_count": 19,
     "metadata": {},
     "output_type": "execute_result"
    }
   ],
   "source": [
    "convert(movies.iloc[0].genres)"
   ]
  },
  {
   "cell_type": "code",
   "execution_count": 20,
   "id": "679f72f6-0a09-4969-bf15-1e659aa06157",
   "metadata": {},
   "outputs": [],
   "source": [
    "movies['genres'] = movies['genres'].apply(convert)"
   ]
  },
  {
   "cell_type": "code",
   "execution_count": 21,
   "id": "0aaf8031-45bb-416c-b9a1-9b795c1f4b8e",
   "metadata": {},
   "outputs": [
    {
     "data": {
      "text/html": [
       "<div>\n",
       "<style scoped>\n",
       "    .dataframe tbody tr th:only-of-type {\n",
       "        vertical-align: middle;\n",
       "    }\n",
       "\n",
       "    .dataframe tbody tr th {\n",
       "        vertical-align: top;\n",
       "    }\n",
       "\n",
       "    .dataframe thead th {\n",
       "        text-align: right;\n",
       "    }\n",
       "</style>\n",
       "<table border=\"1\" class=\"dataframe\">\n",
       "  <thead>\n",
       "    <tr style=\"text-align: right;\">\n",
       "      <th></th>\n",
       "      <th>movie_id</th>\n",
       "      <th>title</th>\n",
       "      <th>overview</th>\n",
       "      <th>genres</th>\n",
       "      <th>keywords</th>\n",
       "      <th>cast</th>\n",
       "      <th>crew</th>\n",
       "    </tr>\n",
       "  </thead>\n",
       "  <tbody>\n",
       "    <tr>\n",
       "      <th>0</th>\n",
       "      <td>19995</td>\n",
       "      <td>Avatar</td>\n",
       "      <td>In the 22nd century, a paraplegic Marine is di...</td>\n",
       "      <td>[Action, Adventure, Fantasy, Science Fiction]</td>\n",
       "      <td>[{\"id\": 1463, \"name\": \"culture clash\"}, {\"id\":...</td>\n",
       "      <td>[{\"cast_id\": 242, \"character\": \"Jake Sully\", \"...</td>\n",
       "      <td>[{\"credit_id\": \"52fe48009251416c750aca23\", \"de...</td>\n",
       "    </tr>\n",
       "  </tbody>\n",
       "</table>\n",
       "</div>"
      ],
      "text/plain": [
       "   movie_id   title                                           overview  \\\n",
       "0     19995  Avatar  In the 22nd century, a paraplegic Marine is di...   \n",
       "\n",
       "                                          genres  \\\n",
       "0  [Action, Adventure, Fantasy, Science Fiction]   \n",
       "\n",
       "                                            keywords  \\\n",
       "0  [{\"id\": 1463, \"name\": \"culture clash\"}, {\"id\":...   \n",
       "\n",
       "                                                cast  \\\n",
       "0  [{\"cast_id\": 242, \"character\": \"Jake Sully\", \"...   \n",
       "\n",
       "                                                crew  \n",
       "0  [{\"credit_id\": \"52fe48009251416c750aca23\", \"de...  "
      ]
     },
     "execution_count": 21,
     "metadata": {},
     "output_type": "execute_result"
    }
   ],
   "source": [
    "movies.head(1)"
   ]
  },
  {
   "cell_type": "code",
   "execution_count": 22,
   "id": "7969f98f-0dbf-4637-92fd-cf40ae6924ff",
   "metadata": {},
   "outputs": [
    {
     "data": {
      "text/plain": [
       "'[{\"id\": 1463, \"name\": \"culture clash\"}, {\"id\": 2964, \"name\": \"future\"}, {\"id\": 3386, \"name\": \"space war\"}, {\"id\": 3388, \"name\": \"space colony\"}, {\"id\": 3679, \"name\": \"society\"}, {\"id\": 3801, \"name\": \"space travel\"}, {\"id\": 9685, \"name\": \"futuristic\"}, {\"id\": 9840, \"name\": \"romance\"}, {\"id\": 9882, \"name\": \"space\"}, {\"id\": 9951, \"name\": \"alien\"}, {\"id\": 10148, \"name\": \"tribe\"}, {\"id\": 10158, \"name\": \"alien planet\"}, {\"id\": 10987, \"name\": \"cgi\"}, {\"id\": 11399, \"name\": \"marine\"}, {\"id\": 13065, \"name\": \"soldier\"}, {\"id\": 14643, \"name\": \"battle\"}, {\"id\": 14720, \"name\": \"love affair\"}, {\"id\": 165431, \"name\": \"anti war\"}, {\"id\": 193554, \"name\": \"power relations\"}, {\"id\": 206690, \"name\": \"mind and soul\"}, {\"id\": 209714, \"name\": \"3d\"}]'"
      ]
     },
     "execution_count": 22,
     "metadata": {},
     "output_type": "execute_result"
    }
   ],
   "source": [
    "movies.iloc[0].keywords"
   ]
  },
  {
   "cell_type": "code",
   "execution_count": 23,
   "id": "27fb84eb-31fe-4c0f-9fe9-1e7afc4bb70e",
   "metadata": {},
   "outputs": [],
   "source": [
    "movies['keywords']= movies['keywords'].apply(convert)"
   ]
  },
  {
   "cell_type": "code",
   "execution_count": 24,
   "id": "cf51361a-0259-4976-a892-115460f95fda",
   "metadata": {},
   "outputs": [
    {
     "data": {
      "text/html": [
       "<div>\n",
       "<style scoped>\n",
       "    .dataframe tbody tr th:only-of-type {\n",
       "        vertical-align: middle;\n",
       "    }\n",
       "\n",
       "    .dataframe tbody tr th {\n",
       "        vertical-align: top;\n",
       "    }\n",
       "\n",
       "    .dataframe thead th {\n",
       "        text-align: right;\n",
       "    }\n",
       "</style>\n",
       "<table border=\"1\" class=\"dataframe\">\n",
       "  <thead>\n",
       "    <tr style=\"text-align: right;\">\n",
       "      <th></th>\n",
       "      <th>movie_id</th>\n",
       "      <th>title</th>\n",
       "      <th>overview</th>\n",
       "      <th>genres</th>\n",
       "      <th>keywords</th>\n",
       "      <th>cast</th>\n",
       "      <th>crew</th>\n",
       "    </tr>\n",
       "  </thead>\n",
       "  <tbody>\n",
       "    <tr>\n",
       "      <th>0</th>\n",
       "      <td>19995</td>\n",
       "      <td>Avatar</td>\n",
       "      <td>In the 22nd century, a paraplegic Marine is di...</td>\n",
       "      <td>[Action, Adventure, Fantasy, Science Fiction]</td>\n",
       "      <td>[culture clash, future, space war, space colon...</td>\n",
       "      <td>[{\"cast_id\": 242, \"character\": \"Jake Sully\", \"...</td>\n",
       "      <td>[{\"credit_id\": \"52fe48009251416c750aca23\", \"de...</td>\n",
       "    </tr>\n",
       "  </tbody>\n",
       "</table>\n",
       "</div>"
      ],
      "text/plain": [
       "   movie_id   title                                           overview  \\\n",
       "0     19995  Avatar  In the 22nd century, a paraplegic Marine is di...   \n",
       "\n",
       "                                          genres  \\\n",
       "0  [Action, Adventure, Fantasy, Science Fiction]   \n",
       "\n",
       "                                            keywords  \\\n",
       "0  [culture clash, future, space war, space colon...   \n",
       "\n",
       "                                                cast  \\\n",
       "0  [{\"cast_id\": 242, \"character\": \"Jake Sully\", \"...   \n",
       "\n",
       "                                                crew  \n",
       "0  [{\"credit_id\": \"52fe48009251416c750aca23\", \"de...  "
      ]
     },
     "execution_count": 24,
     "metadata": {},
     "output_type": "execute_result"
    }
   ],
   "source": [
    "movies.head(1)"
   ]
  },
  {
   "cell_type": "code",
   "execution_count": 25,
   "id": "ea411d85-8bfa-4ead-9ae4-8de1c788a5f7",
   "metadata": {},
   "outputs": [
    {
     "data": {
      "text/plain": [
       "'[{\"cast_id\": 242, \"character\": \"Jake Sully\", \"credit_id\": \"5602a8a7c3a3685532001c9a\", \"gender\": 2, \"id\": 65731, \"name\": \"Sam Worthington\", \"order\": 0}, {\"cast_id\": 3, \"character\": \"Neytiri\", \"credit_id\": \"52fe48009251416c750ac9cb\", \"gender\": 1, \"id\": 8691, \"name\": \"Zoe Saldana\", \"order\": 1}, {\"cast_id\": 25, \"character\": \"Dr. Grace Augustine\", \"credit_id\": \"52fe48009251416c750aca39\", \"gender\": 1, \"id\": 10205, \"name\": \"Sigourney Weaver\", \"order\": 2}, {\"cast_id\": 4, \"character\": \"Col. Quaritch\", \"c'"
      ]
     },
     "execution_count": 25,
     "metadata": {},
     "output_type": "execute_result"
    }
   ],
   "source": [
    "movies['cast'][0][:500]"
   ]
  },
  {
   "cell_type": "code",
   "execution_count": 26,
   "id": "cdc57bb8-4eee-4352-94e8-1ea59d1dd504",
   "metadata": {},
   "outputs": [],
   "source": [
    "# for the cast column we are going to take only first 3 main casts or actors\n",
    "def convert_casts(obj):\n",
    "    l=[]\n",
    "    counter=0\n",
    "    for i in ast.literal_eval(obj):\n",
    "        if counter != 3:\n",
    "            l.append(i['name'])\n",
    "            counter += 1\n",
    "        else:\n",
    "            break\n",
    "    return l"
   ]
  },
  {
   "cell_type": "code",
   "execution_count": 27,
   "id": "27058098-ca75-4ae3-90ea-2b6e27a19dbf",
   "metadata": {},
   "outputs": [
    {
     "data": {
      "text/plain": [
       "['Sam Worthington', 'Zoe Saldana', 'Sigourney Weaver']"
      ]
     },
     "execution_count": 27,
     "metadata": {},
     "output_type": "execute_result"
    }
   ],
   "source": [
    "convert_casts(movies.iloc[0].cast)"
   ]
  },
  {
   "cell_type": "code",
   "execution_count": 28,
   "id": "ab0a69b8-4c38-4b89-932c-ba2f3642dd6a",
   "metadata": {},
   "outputs": [],
   "source": [
    "movies['cast'] = movies['cast'].apply(convert_casts)"
   ]
  },
  {
   "cell_type": "code",
   "execution_count": 29,
   "id": "364d00dc-3265-477a-856e-306238d5e368",
   "metadata": {},
   "outputs": [
    {
     "data": {
      "text/html": [
       "<div>\n",
       "<style scoped>\n",
       "    .dataframe tbody tr th:only-of-type {\n",
       "        vertical-align: middle;\n",
       "    }\n",
       "\n",
       "    .dataframe tbody tr th {\n",
       "        vertical-align: top;\n",
       "    }\n",
       "\n",
       "    .dataframe thead th {\n",
       "        text-align: right;\n",
       "    }\n",
       "</style>\n",
       "<table border=\"1\" class=\"dataframe\">\n",
       "  <thead>\n",
       "    <tr style=\"text-align: right;\">\n",
       "      <th></th>\n",
       "      <th>movie_id</th>\n",
       "      <th>title</th>\n",
       "      <th>overview</th>\n",
       "      <th>genres</th>\n",
       "      <th>keywords</th>\n",
       "      <th>cast</th>\n",
       "      <th>crew</th>\n",
       "    </tr>\n",
       "  </thead>\n",
       "  <tbody>\n",
       "    <tr>\n",
       "      <th>0</th>\n",
       "      <td>19995</td>\n",
       "      <td>Avatar</td>\n",
       "      <td>In the 22nd century, a paraplegic Marine is di...</td>\n",
       "      <td>[Action, Adventure, Fantasy, Science Fiction]</td>\n",
       "      <td>[culture clash, future, space war, space colon...</td>\n",
       "      <td>[Sam Worthington, Zoe Saldana, Sigourney Weaver]</td>\n",
       "      <td>[{\"credit_id\": \"52fe48009251416c750aca23\", \"de...</td>\n",
       "    </tr>\n",
       "  </tbody>\n",
       "</table>\n",
       "</div>"
      ],
      "text/plain": [
       "   movie_id   title                                           overview  \\\n",
       "0     19995  Avatar  In the 22nd century, a paraplegic Marine is di...   \n",
       "\n",
       "                                          genres  \\\n",
       "0  [Action, Adventure, Fantasy, Science Fiction]   \n",
       "\n",
       "                                            keywords  \\\n",
       "0  [culture clash, future, space war, space colon...   \n",
       "\n",
       "                                               cast  \\\n",
       "0  [Sam Worthington, Zoe Saldana, Sigourney Weaver]   \n",
       "\n",
       "                                                crew  \n",
       "0  [{\"credit_id\": \"52fe48009251416c750aca23\", \"de...  "
      ]
     },
     "execution_count": 29,
     "metadata": {},
     "output_type": "execute_result"
    }
   ],
   "source": [
    "movies.head(1)"
   ]
  },
  {
   "cell_type": "code",
   "execution_count": 30,
   "id": "a9ca5a9f-e2af-4be5-879b-2e965b870f95",
   "metadata": {},
   "outputs": [
    {
     "data": {
      "text/plain": [
       "'[{\"credit_id\": \"52fe48009251416c750aca23\", \"department\": \"Editing\", \"gender\": 0, \"id\": 1721, \"job\": \"Editor\", \"name\": \"Stephen E. Rivkin\"}, {\"credit_id\": \"539c47ecc3a36810e3001f87\", \"department\": \"Art\", \"gender\": 2, \"id\": 496, \"job\": \"Production Design\", \"name\": \"Rick Carter\"}, {\"credit_id\": \"54491c89c3a3680fb4001cf7\", \"department\": \"Sound\", \"gender\": 0, \"id\": 900, \"job\": \"Sound Designer\", \"name\": \"Christopher Boyes\"}, {\"credit_id\": \"54491cb70e0a267480001bd0\", \"department\": \"Sound\", \"gender\": 0, \"id\": 900, \"job\": \"Supervising Sound Editor\", \"name\": \"Christopher Boyes\"}, {\"credit_id\": \"539c4a4cc3a36810c9002101\", \"department\": \"Production\", \"gender\": 1, \"id\": 1262, \"job\": \"Casting\", \"name\": \"Mali Finn\"}, {\"credit_id\": \"5544ee3b925141499f0008fc\", \"department\": \"Sound\", \"gender\": 2, \"id\": 1729, \"job\": \"Original Music Composer\", \"name\": \"James Horner\"}, {\"credit_id\": \"52fe48009251416c750ac9c3\", \"department\": \"Directing\", \"gender\": 2, \"id\": 2710, \"job\": \"Director\", \"name\": \"James Cameron\"}, {\"credit_id\": \"52fe48009251416c750ac9d9\", \"department\": \"Writing\", \"gender\": 2, \"id\": 2710, \"job\": \"Writer\", \"name\": \"James Cameron\"}, {\"credit_id\": \"52fe48009251416c750aca17\", \"department\": \"Editing\", \"gender\": 2, \"id\": 2710, \"job\": \"Editor\", \"name\": \"James Cameron\"}, {\"credit_id\": \"52fe48009251416c750aca29\", \"department\": \"Production\", \"gender\": 2, \"id\": 2710, \"job\": \"Producer\", \"name\": \"James Cameron\"}, {\"credit_id\": \"52fe48009251416c750aca3f\", \"department\": \"Writing\", \"gender\": 2, \"id\": 2710, \"job\": \"Screenplay\", \"name\": \"James Cameron\"}, {\"credit_id\": \"539c4987c3a36810ba0021a4\", \"department\": \"Art\", \"gender\": 2, \"id\": 7236, \"job\": \"Art Direction\", \"name\": \"Andrew Menzies\"}, {\"credit_id\": \"549598c3c3a3686ae9004383\", \"department\": \"Visual Effects\", \"gender\": 0, \"id\": 6690, \"job\": \"Visual Effects Producer\", \"name\": \"Jill Brooks\"}, {\"credit_id\": \"52fe48009251416c750aca4b\", \"department\": \"Production\", \"gender\": 1, \"id\": 6347, \"job\": \"Casting\", \"name\": \"Margery Simkin\"}, {\"credit_id\": \"570b6f419251417da70032fe\", \"department\": \"Art\", \"gender\": 2, \"id\": 6878, \"job\": \"Supervising Art Director\", \"name\": \"Kevin Ishioka\"}, {\"credit_id\": \"5495a0fac3a3686ae9004468\", \"department\": \"Sound\", \"gender\": 0, \"id\": 6883, \"job\": \"Music Editor\", \"name\": \"Dick Bernstein\"}, {\"credit_id\": \"54959706c3a3686af3003e81\", \"department\": \"Sound\", \"gender\": 0, \"id\": 8159, \"job\": \"Sound Effects Editor\", \"name\": \"Shannon Mills\"}, {\"credit_id\": \"54491d58c3a3680fb1001ccb\", \"department\": \"Sound\", \"gender\": 0, \"id\": 8160, \"job\": \"Foley\", \"name\": \"Dennie Thorpe\"}, {\"credit_id\": \"54491d6cc3a3680fa5001b2c\", \"department\": \"Sound\", \"gender\": 0, \"id\": 8163, \"job\": \"Foley\", \"name\": \"Jana Vance\"}, {\"credit_id\": \"52fe48009251416c750aca57\", \"department\": \"Costume & Make-Up\", \"gender\": 1, \"id\": 8527, \"job\": \"Costume Design\", \"name\": \"Deborah Lynn Scott\"}, {\"credit_id\": \"52fe48009251416c750aca2f\", \"department\": \"Production\", \"gender\": 2, \"id\": 8529, \"job\": \"Producer\", \"name\": \"Jon Landau\"}, {\"credit_id\": \"539c4937c3a36810ba002194\", \"department\": \"Art\", \"gender\": 0, \"id\": 9618, \"job\": \"Art Direction\", \"name\": \"Sean Haworth\"}, {\"credit_id\": \"539c49b6c3a36810c10020e6\", \"department\": \"Art\", \"gender\": 1, \"id\": 12653, \"job\": \"Set Decoration\", \"name\": \"Kim Sinclair\"}, {\"credit_id\": \"570b6f2f9251413a0e00020d\", \"department\": \"Art\", \"gender\": 1, \"id\": 12653, \"job\": \"Supervising Art Director\", \"name\": \"Kim Sinclair\"}, {\"credit_id\": \"54491a6c0e0a26748c001b19\", \"department\": \"Art\", \"gender\": 2, \"id\": 14350, \"job\": \"Set Designer\", \"name\": \"Richard F. Mays\"}, {\"credit_id\": \"56928cf4c3a3684cff0025c4\", \"department\": \"Production\", \"gender\": 1, \"id\": 20294, \"job\": \"Executive Producer\", \"name\": \"Laeta Kalogridis\"}, {\"credit_id\": \"52fe48009251416c750aca51\", \"department\": \"Costume & Make-Up\", \"gender\": 0, \"id\": 17675, \"job\": \"Costume Design\", \"name\": \"Mayes C. Rubeo\"}, {\"credit_id\": \"52fe48009251416c750aca11\", \"department\": \"Camera\", \"gender\": 2, \"id\": 18265, \"job\": \"Director of Photography\", \"name\": \"Mauro Fiore\"}, {\"credit_id\": \"5449194d0e0a26748f001b39\", \"department\": \"Art\", \"gender\": 0, \"id\": 42281, \"job\": \"Set Designer\", \"name\": \"Scott Herbertson\"}, {\"credit_id\": \"52fe48009251416c750aca05\", \"department\": \"Crew\", \"gender\": 0, \"id\": 42288, \"job\": \"Stunts\", \"name\": \"Woody Schultz\"}, {\"credit_id\": \"5592aefb92514152de0010f5\", \"department\": \"Costume & Make-Up\", \"gender\": 0, \"id\": 29067, \"job\": \"Makeup Artist\", \"name\": \"Linda DeVetta\"}, {\"credit_id\": \"5592afa492514152de00112c\", \"department\": \"Costume & Make-Up\", \"gender\": 0, \"id\": 29067, \"job\": \"Hairstylist\", \"name\": \"Linda DeVetta\"}, {\"credit_id\": \"54959ed592514130fc002e5d\", \"department\": \"Camera\", \"gender\": 2, \"id\": 33302, \"job\": \"Camera Operator\", \"name\": \"Richard Bluck\"}, {\"credit_id\": \"539c4891c3a36810ba002147\", \"department\": \"Art\", \"gender\": 2, \"id\": 33303, \"job\": \"Art Direction\", \"name\": \"Simon Bright\"}, {\"credit_id\": \"54959c069251417a81001f3a\", \"department\": \"Visual Effects\", \"gender\": 0, \"id\": 113145, \"job\": \"Visual Effects Supervisor\", \"name\": \"Richard Martin\"}, {\"credit_id\": \"54959a0dc3a3680ff5002c8d\", \"department\": \"Crew\", \"gender\": 2, \"id\": 58188, \"job\": \"Visual Effects Editor\", \"name\": \"Steve R. Moore\"}, {\"credit_id\": \"52fe48009251416c750aca1d\", \"department\": \"Editing\", \"gender\": 2, \"id\": 58871, \"job\": \"Editor\", \"name\": \"John Refoua\"}, {\"credit_id\": \"54491a4dc3a3680fc30018ca\", \"department\": \"Art\", \"gender\": 0, \"id\": 92359, \"job\": \"Set Designer\", \"name\": \"Karl J. Martin\"}, {\"credit_id\": \"52fe48009251416c750aca35\", \"department\": \"Camera\", \"gender\": 1, \"id\": 72201, \"job\": \"Director of Photography\", \"name\": \"Chiling Lin\"}, {\"credit_id\": \"52fe48009251416c750ac9ff\", \"department\": \"Crew\", \"gender\": 0, \"id\": 89714, \"job\": \"Stunts\", \"name\": \"Ilram Choi\"}, {\"credit_id\": \"54959c529251416e2b004394\", \"department\": \"Visual Effects\", \"gender\": 2, \"id\": 93214, \"job\": \"Visual Effects Supervisor\", \"name\": \"Steven Quale\"}, {\"credit_id\": \"54491edf0e0a267489001c37\", \"department\": \"Crew\", \"gender\": 1, \"id\": 122607, \"job\": \"Dialect Coach\", \"name\": \"Carla Meyer\"}, {\"credit_id\": \"539c485bc3a368653d001a3a\", \"department\": \"Art\", \"gender\": 2, \"id\": 132585, \"job\": \"Art Direction\", \"name\": \"Nick Bassett\"}, {\"credit_id\": \"539c4903c3a368653d001a74\", \"department\": \"Art\", \"gender\": 0, \"id\": 132596, \"job\": \"Art Direction\", \"name\": \"Jill Cormack\"}, {\"credit_id\": \"539c4967c3a368653d001a94\", \"department\": \"Art\", \"gender\": 0, \"id\": 132604, \"job\": \"Art Direction\", \"name\": \"Andy McLaren\"}, {\"credit_id\": \"52fe48009251416c750aca45\", \"department\": \"Crew\", \"gender\": 0, \"id\": 236696, \"job\": \"Motion Capture Artist\", \"name\": \"Terry Notary\"}, {\"credit_id\": \"54959e02c3a3680fc60027d2\", \"department\": \"Crew\", \"gender\": 2, \"id\": 956198, \"job\": \"Stunt Coordinator\", \"name\": \"Garrett Warren\"}, {\"credit_id\": \"54959ca3c3a3686ae300438c\", \"department\": \"Visual Effects\", \"gender\": 2, \"id\": 957874, \"job\": \"Visual Effects Supervisor\", \"name\": \"Jonathan Rothbart\"}, {\"credit_id\": \"570b6f519251412c74001b2f\", \"department\": \"Art\", \"gender\": 0, \"id\": 957889, \"job\": \"Supervising Art Director\", \"name\": \"Stefan Dechant\"}, {\"credit_id\": \"570b6f62c3a3680b77007460\", \"department\": \"Art\", \"gender\": 2, \"id\": 959555, \"job\": \"Supervising Art Director\", \"name\": \"Todd Cherniawsky\"}, {\"credit_id\": \"539c4a3ac3a36810da0021cc\", \"department\": \"Production\", \"gender\": 0, \"id\": 1016177, \"job\": \"Casting\", \"name\": \"Miranda Rivers\"}, {\"credit_id\": \"539c482cc3a36810c1002062\", \"department\": \"Art\", \"gender\": 0, \"id\": 1032536, \"job\": \"Production Design\", \"name\": \"Robert Stromberg\"}, {\"credit_id\": \"539c4b65c3a36810c9002125\", \"department\": \"Costume & Make-Up\", \"gender\": 2, \"id\": 1071680, \"job\": \"Costume Design\", \"name\": \"John Harding\"}, {\"credit_id\": \"54959e6692514130fc002e4e\", \"department\": \"Camera\", \"gender\": 0, \"id\": 1177364, \"job\": \"Steadicam Operator\", \"name\": \"Roberto De Angelis\"}, {\"credit_id\": \"539c49f1c3a368653d001aac\", \"department\": \"Costume & Make-Up\", \"gender\": 2, \"id\": 1202850, \"job\": \"Makeup Department Head\", \"name\": \"Mike Smithson\"}, {\"credit_id\": \"5495999ec3a3686ae100460c\", \"department\": \"Visual Effects\", \"gender\": 0, \"id\": 1204668, \"job\": \"Visual Effects Producer\", \"name\": \"Alain Lalanne\"}, {\"credit_id\": \"54959cdfc3a3681153002729\", \"department\": \"Visual Effects\", \"gender\": 0, \"id\": 1206410, \"job\": \"Visual Effects Supervisor\", \"name\": \"Lucas Salton\"}, {\"credit_id\": \"549596239251417a81001eae\", \"department\": \"Crew\", \"gender\": 0, \"id\": 1234266, \"job\": \"Post Production Supervisor\", \"name\": \"Janace Tashjian\"}, {\"credit_id\": \"54959c859251416e1e003efe\", \"department\": \"Visual Effects\", \"gender\": 0, \"id\": 1271932, \"job\": \"Visual Effects Supervisor\", \"name\": \"Stephen Rosenbaum\"}, {\"credit_id\": \"5592af28c3a368775a00105f\", \"department\": \"Costume & Make-Up\", \"gender\": 0, \"id\": 1310064, \"job\": \"Makeup Artist\", \"name\": \"Frankie Karena\"}, {\"credit_id\": \"539c4adfc3a36810e300203b\", \"department\": \"Costume & Make-Up\", \"gender\": 1, \"id\": 1319844, \"job\": \"Costume Supervisor\", \"name\": \"Lisa Lovaas\"}, {\"credit_id\": \"54959b579251416e2b004371\", \"department\": \"Visual Effects\", \"gender\": 0, \"id\": 1327028, \"job\": \"Visual Effects Supervisor\", \"name\": \"Jonathan Fawkner\"}, {\"credit_id\": \"539c48a7c3a36810b5001fa7\", \"department\": \"Art\", \"gender\": 0, \"id\": 1330561, \"job\": \"Art Direction\", \"name\": \"Robert Bavin\"}, {\"credit_id\": \"539c4a71c3a36810da0021e0\", \"department\": \"Costume & Make-Up\", \"gender\": 0, \"id\": 1330567, \"job\": \"Costume Supervisor\", \"name\": \"Anthony Almaraz\"}, {\"credit_id\": \"539c4a8ac3a36810ba0021e4\", \"department\": \"Costume & Make-Up\", \"gender\": 0, \"id\": 1330570, \"job\": \"Costume Supervisor\", \"name\": \"Carolyn M. Fenton\"}, {\"credit_id\": \"539c4ab6c3a36810da0021f0\", \"department\": \"Costume & Make-Up\", \"gender\": 0, \"id\": 1330574, \"job\": \"Costume Supervisor\", \"name\": \"Beth Koenigsberg\"}, {\"credit_id\": \"54491ab70e0a267480001ba2\", \"department\": \"Art\", \"gender\": 0, \"id\": 1336191, \"job\": \"Set Designer\", \"name\": \"Sam Page\"}, {\"credit_id\": \"544919d9c3a3680fc30018bd\", \"department\": \"Art\", \"gender\": 0, \"id\": 1339441, \"job\": \"Set Designer\", \"name\": \"Tex Kadonaga\"}, {\"credit_id\": \"54491cf50e0a267483001b0c\", \"department\": \"Editing\", \"gender\": 0, \"id\": 1352422, \"job\": \"Dialogue Editor\", \"name\": \"Kim Foscato\"}, {\"credit_id\": \"544919f40e0a26748c001b09\", \"department\": \"Art\", \"gender\": 0, \"id\": 1352962, \"job\": \"Set Designer\", \"name\": \"Tammy S. Lee\"}, {\"credit_id\": \"5495a115c3a3680ff5002d71\", \"department\": \"Crew\", \"gender\": 0, \"id\": 1357070, \"job\": \"Transportation Coordinator\", \"name\": \"Denny Caira\"}, {\"credit_id\": \"5495a12f92514130fc002e94\", \"department\": \"Crew\", \"gender\": 0, \"id\": 1357071, \"job\": \"Transportation Coordinator\", \"name\": \"James Waitkus\"}, {\"credit_id\": \"5495976fc3a36811530026b0\", \"department\": \"Sound\", \"gender\": 0, \"id\": 1360103, \"job\": \"Supervising Sound Editor\", \"name\": \"Addison Teague\"}, {\"credit_id\": \"54491837c3a3680fb1001c5a\", \"department\": \"Art\", \"gender\": 2, \"id\": 1376887, \"job\": \"Set Designer\", \"name\": \"C. Scott Baker\"}, {\"credit_id\": \"54491878c3a3680fb4001c9d\", \"department\": \"Art\", \"gender\": 0, \"id\": 1376888, \"job\": \"Set Designer\", \"name\": \"Luke Caska\"}, {\"credit_id\": \"544918dac3a3680fa5001ae0\", \"department\": \"Art\", \"gender\": 0, \"id\": 1376889, \"job\": \"Set Designer\", \"name\": \"David Chow\"}, {\"credit_id\": \"544919110e0a267486001b68\", \"department\": \"Art\", \"gender\": 0, \"id\": 1376890, \"job\": \"Set Designer\", \"name\": \"Jonathan Dyer\"}, {\"credit_id\": \"54491967c3a3680faa001b5e\", \"department\": \"Art\", \"gender\": 0, \"id\": 1376891, \"job\": \"Set Designer\", \"name\": \"Joseph Hiura\"}, {\"credit_id\": \"54491997c3a3680fb1001c8a\", \"department\": \"Art\", \"gender\": 0, \"id\": 1376892, \"job\": \"Art Department Coordinator\", \"name\": \"Rebecca Jellie\"}, {\"credit_id\": \"544919ba0e0a26748f001b42\", \"department\": \"Art\", \"gender\": 0, \"id\": 1376893, \"job\": \"Set Designer\", \"name\": \"Robert Andrew Johnson\"}, {\"credit_id\": \"54491b1dc3a3680faa001b8c\", \"department\": \"Art\", \"gender\": 0, \"id\": 1376895, \"job\": \"Assistant Art Director\", \"name\": \"Mike Stassi\"}, {\"credit_id\": \"54491b79c3a3680fbb001826\", \"department\": \"Art\", \"gender\": 0, \"id\": 1376897, \"job\": \"Construction Coordinator\", \"name\": \"John Villarino\"}, {\"credit_id\": \"54491baec3a3680fb4001ce6\", \"department\": \"Art\", \"gender\": 2, \"id\": 1376898, \"job\": \"Assistant Art Director\", \"name\": \"Jeffrey Wisniewski\"}, {\"credit_id\": \"54491d2fc3a3680fb4001d07\", \"department\": \"Editing\", \"gender\": 0, \"id\": 1376899, \"job\": \"Dialogue Editor\", \"name\": \"Cheryl Nardi\"}, {\"credit_id\": \"54491d86c3a3680fa5001b2f\", \"department\": \"Editing\", \"gender\": 0, \"id\": 1376901, \"job\": \"Dialogue Editor\", \"name\": \"Marshall Winn\"}, {\"credit_id\": \"54491d9dc3a3680faa001bb0\", \"department\": \"Sound\", \"gender\": 0, \"id\": 1376902, \"job\": \"Supervising Sound Editor\", \"name\": \"Gwendolyn Yates Whittle\"}, {\"credit_id\": \"54491dc10e0a267486001bce\", \"department\": \"Sound\", \"gender\": 0, \"id\": 1376903, \"job\": \"Sound Re-Recording Mixer\", \"name\": \"William Stein\"}, {\"credit_id\": \"54491f500e0a26747c001c07\", \"department\": \"Crew\", \"gender\": 0, \"id\": 1376909, \"job\": \"Choreographer\", \"name\": \"Lula Washington\"}, {\"credit_id\": \"549599239251412c4e002a2e\", \"department\": \"Visual Effects\", \"gender\": 0, \"id\": 1391692, \"job\": \"Visual Effects Producer\", \"name\": \"Chris Del Conte\"}, {\"credit_id\": \"54959d54c3a36831b8001d9a\", \"department\": \"Visual Effects\", \"gender\": 2, \"id\": 1391695, \"job\": \"Visual Effects Supervisor\", \"name\": \"R. Christopher White\"}, {\"credit_id\": \"54959bdf9251412c4e002a66\", \"department\": \"Visual Effects\", \"gender\": 0, \"id\": 1394070, \"job\": \"Visual Effects Supervisor\", \"name\": \"Dan Lemmon\"}, {\"credit_id\": \"5495971d92514132ed002922\", \"department\": \"Sound\", \"gender\": 0, \"id\": 1394129, \"job\": \"Sound Effects Editor\", \"name\": \"Tim Nielsen\"}, {\"credit_id\": \"5592b25792514152cc0011aa\", \"department\": \"Crew\", \"gender\": 0, \"id\": 1394286, \"job\": \"CG Supervisor\", \"name\": \"Michael Mulholland\"}, {\"credit_id\": \"54959a329251416e2b004355\", \"department\": \"Crew\", \"gender\": 0, \"id\": 1394750, \"job\": \"Visual Effects Editor\", \"name\": \"Thomas Nittmann\"}, {\"credit_id\": \"54959d6dc3a3686ae9004401\", \"department\": \"Visual Effects\", \"gender\": 0, \"id\": 1394755, \"job\": \"Visual Effects Supervisor\", \"name\": \"Edson Williams\"}, {\"credit_id\": \"5495a08fc3a3686ae300441c\", \"department\": \"Editing\", \"gender\": 0, \"id\": 1394953, \"job\": \"Digital Intermediate\", \"name\": \"Christine Carr\"}, {\"credit_id\": \"55402d659251413d6d000249\", \"department\": \"Visual Effects\", \"gender\": 0, \"id\": 1395269, \"job\": \"Visual Effects Supervisor\", \"name\": \"John Bruno\"}, {\"credit_id\": \"54959e7b9251416e1e003f3e\", \"department\": \"Camera\", \"gender\": 0, \"id\": 1398970, \"job\": \"Steadicam Operator\", \"name\": \"David Emmerichs\"}, {\"credit_id\": \"54959734c3a3686ae10045e0\", \"department\": \"Sound\", \"gender\": 0, \"id\": 1400906, \"job\": \"Sound Effects Editor\", \"name\": \"Christopher Scarabosio\"}, {\"credit_id\": \"549595dd92514130fc002d79\", \"department\": \"Production\", \"gender\": 0, \"id\": 1401784, \"job\": \"Production Supervisor\", \"name\": \"Jennifer Teves\"}, {\"credit_id\": \"549596009251413af70028cc\", \"department\": \"Production\", \"gender\": 0, \"id\": 1401785, \"job\": \"Production Manager\", \"name\": \"Brigitte Yorke\"}, {\"credit_id\": \"549596e892514130fc002d99\", \"department\": \"Sound\", \"gender\": 0, \"id\": 1401786, \"job\": \"Sound Effects Editor\", \"name\": \"Ken Fischer\"}, {\"credit_id\": \"549598229251412c4e002a1c\", \"department\": \"Crew\", \"gender\": 0, \"id\": 1401787, \"job\": \"Special Effects Coordinator\", \"name\": \"Iain Hutton\"}, {\"credit_id\": \"549598349251416e2b00432b\", \"department\": \"Crew\", \"gender\": 0, \"id\": 1401788, \"job\": \"Special Effects Coordinator\", \"name\": \"Steve Ingram\"}, {\"credit_id\": \"54959905c3a3686ae3004324\", \"department\": \"Visual Effects\", \"gender\": 0, \"id\": 1401789, \"job\": \"Visual Effects Producer\", \"name\": \"Joyce Cox\"}, {\"credit_id\": \"5495994b92514132ed002951\", \"department\": \"Visual Effects\", \"gender\": 0, \"id\": 1401790, \"job\": \"Visual Effects Producer\", \"name\": \"Jenny Foster\"}, {\"credit_id\": \"549599cbc3a3686ae1004613\", \"department\": \"Crew\", \"gender\": 0, \"id\": 1401791, \"job\": \"Visual Effects Editor\", \"name\": \"Christopher Marino\"}, {\"credit_id\": \"549599f2c3a3686ae100461e\", \"department\": \"Crew\", \"gender\": 0, \"id\": 1401792, \"job\": \"Visual Effects Editor\", \"name\": \"Jim Milton\"}, {\"credit_id\": \"54959a51c3a3686af3003eb5\", \"department\": \"Visual Effects\", \"gender\": 0, \"id\": 1401793, \"job\": \"Visual Effects Producer\", \"name\": \"Cyndi Ochs\"}, {\"credit_id\": \"54959a7cc3a36811530026f4\", \"department\": \"Crew\", \"gender\": 0, \"id\": 1401794, \"job\": \"Visual Effects Editor\", \"name\": \"Lucas Putnam\"}, {\"credit_id\": \"54959b91c3a3680ff5002cb4\", \"department\": \"Visual Effects\", \"gender\": 0, \"id\": 1401795, \"job\": \"Visual Effects Supervisor\", \"name\": \"Anthony \\'Max\\' Ivins\"}, {\"credit_id\": \"54959bb69251412c4e002a5f\", \"department\": \"Visual Effects\", \"gender\": 0, \"id\": 1401796, \"job\": \"Visual Effects Supervisor\", \"name\": \"John Knoll\"}, {\"credit_id\": \"54959cbbc3a3686ae3004391\", \"department\": \"Visual Effects\", \"gender\": 2, \"id\": 1401799, \"job\": \"Visual Effects Supervisor\", \"name\": \"Eric Saindon\"}, {\"credit_id\": \"54959d06c3a3686ae90043f6\", \"department\": \"Visual Effects\", \"gender\": 0, \"id\": 1401800, \"job\": \"Visual Effects Supervisor\", \"name\": \"Wayne Stables\"}, {\"credit_id\": \"54959d259251416e1e003f11\", \"department\": \"Visual Effects\", \"gender\": 0, \"id\": 1401801, \"job\": \"Visual Effects Supervisor\", \"name\": \"David Stinnett\"}, {\"credit_id\": \"54959db49251413af7002975\", \"department\": \"Visual Effects\", \"gender\": 0, \"id\": 1401803, \"job\": \"Visual Effects Supervisor\", \"name\": \"Guy Williams\"}, {\"credit_id\": \"54959de4c3a3681153002750\", \"department\": \"Crew\", \"gender\": 0, \"id\": 1401804, \"job\": \"Stunt Coordinator\", \"name\": \"Stuart Thorp\"}, {\"credit_id\": \"54959ef2c3a3680fc60027f2\", \"department\": \"Lighting\", \"gender\": 0, \"id\": 1401805, \"job\": \"Best Boy Electric\", \"name\": \"Giles Coburn\"}, {\"credit_id\": \"54959f07c3a3680fc60027f9\", \"department\": \"Camera\", \"gender\": 2, \"id\": 1401806, \"job\": \"Still Photographer\", \"name\": \"Mark Fellman\"}, {\"credit_id\": \"54959f47c3a3681153002774\", \"department\": \"Lighting\", \"gender\": 0, \"id\": 1401807, \"job\": \"Lighting Technician\", \"name\": \"Scott Sprague\"}, {\"credit_id\": \"54959f8cc3a36831b8001df2\", \"department\": \"Visual Effects\", \"gender\": 0, \"id\": 1401808, \"job\": \"Animation Director\", \"name\": \"Jeremy Hollobon\"}, {\"credit_id\": \"54959fa0c3a36831b8001dfb\", \"department\": \"Visual Effects\", \"gender\": 0, \"id\": 1401809, \"job\": \"Animation Director\", \"name\": \"Orlando Meunier\"}, {\"credit_id\": \"54959fb6c3a3686af3003f54\", \"department\": \"Visual Effects\", \"gender\": 0, \"id\": 1401810, \"job\": \"Animation Director\", \"name\": \"Taisuke Tanimura\"}, {\"credit_id\": \"54959fd2c3a36831b8001e02\", \"department\": \"Costume & Make-Up\", \"gender\": 0, \"id\": 1401812, \"job\": \"Set Costumer\", \"name\": \"Lilia Mishel Acevedo\"}, {\"credit_id\": \"54959ff9c3a3686ae300440c\", \"department\": \"Costume & Make-Up\", \"gender\": 0, \"id\": 1401814, \"job\": \"Set Costumer\", \"name\": \"Alejandro M. Hernandez\"}, {\"credit_id\": \"5495a0ddc3a3686ae10046fe\", \"department\": \"Editing\", \"gender\": 0, \"id\": 1401815, \"job\": \"Digital Intermediate\", \"name\": \"Marvin Hall\"}, {\"credit_id\": \"5495a1f7c3a3686ae3004443\", \"department\": \"Production\", \"gender\": 0, \"id\": 1401816, \"job\": \"Publicist\", \"name\": \"Judy Alley\"}, {\"credit_id\": \"5592b29fc3a36869d100002f\", \"department\": \"Crew\", \"gender\": 0, \"id\": 1418381, \"job\": \"CG Supervisor\", \"name\": \"Mike Perry\"}, {\"credit_id\": \"5592b23a9251415df8001081\", \"department\": \"Crew\", \"gender\": 0, \"id\": 1426854, \"job\": \"CG Supervisor\", \"name\": \"Andrew Morley\"}, {\"credit_id\": \"55491e1192514104c40002d8\", \"department\": \"Art\", \"gender\": 0, \"id\": 1438901, \"job\": \"Conceptual Design\", \"name\": \"Seth Engstrom\"}, {\"credit_id\": \"5525d5809251417276002b06\", \"department\": \"Crew\", \"gender\": 0, \"id\": 1447362, \"job\": \"Visual Effects Art Director\", \"name\": \"Eric Oliver\"}, {\"credit_id\": \"554427ca925141586500312a\", \"department\": \"Visual Effects\", \"gender\": 0, \"id\": 1447503, \"job\": \"Modeling\", \"name\": \"Matsune Suzuki\"}, {\"credit_id\": \"551906889251415aab001c88\", \"department\": \"Art\", \"gender\": 0, \"id\": 1447524, \"job\": \"Art Department Manager\", \"name\": \"Paul Tobin\"}, {\"credit_id\": \"5592af8492514152cc0010de\", \"department\": \"Costume & Make-Up\", \"gender\": 0, \"id\": 1452643, \"job\": \"Hairstylist\", \"name\": \"Roxane Griffin\"}, {\"credit_id\": \"553d3c109251415852001318\", \"department\": \"Lighting\", \"gender\": 0, \"id\": 1453938, \"job\": \"Lighting Artist\", \"name\": \"Arun Ram-Mohan\"}, {\"credit_id\": \"5592af4692514152d5001355\", \"department\": \"Costume & Make-Up\", \"gender\": 0, \"id\": 1457305, \"job\": \"Makeup Artist\", \"name\": \"Georgia Lockhart-Adams\"}, {\"credit_id\": \"5592b2eac3a36877470012a5\", \"department\": \"Crew\", \"gender\": 0, \"id\": 1466035, \"job\": \"CG Supervisor\", \"name\": \"Thrain Shadbolt\"}, {\"credit_id\": \"5592b032c3a36877450015f1\", \"department\": \"Crew\", \"gender\": 0, \"id\": 1483220, \"job\": \"CG Supervisor\", \"name\": \"Brad Alexander\"}, {\"credit_id\": \"5592b05592514152d80012f6\", \"department\": \"Crew\", \"gender\": 0, \"id\": 1483221, \"job\": \"CG Supervisor\", \"name\": \"Shadi Almassizadeh\"}, {\"credit_id\": \"5592b090c3a36877570010b5\", \"department\": \"Crew\", \"gender\": 0, \"id\": 1483222, \"job\": \"CG Supervisor\", \"name\": \"Simon Clutterbuck\"}, {\"credit_id\": \"5592b0dbc3a368774b00112c\", \"department\": \"Crew\", \"gender\": 0, \"id\": 1483223, \"job\": \"CG Supervisor\", \"name\": \"Graeme Demmocks\"}, {\"credit_id\": \"5592b0fe92514152db0010c1\", \"department\": \"Crew\", \"gender\": 0, \"id\": 1483224, \"job\": \"CG Supervisor\", \"name\": \"Adrian Fernandes\"}, {\"credit_id\": \"5592b11f9251415df8001059\", \"department\": \"Crew\", \"gender\": 0, \"id\": 1483225, \"job\": \"CG Supervisor\", \"name\": \"Mitch Gates\"}, {\"credit_id\": \"5592b15dc3a3687745001645\", \"department\": \"Crew\", \"gender\": 0, \"id\": 1483226, \"job\": \"CG Supervisor\", \"name\": \"Jerry Kung\"}, {\"credit_id\": \"5592b18e925141645a0004ae\", \"department\": \"Crew\", \"gender\": 0, \"id\": 1483227, \"job\": \"CG Supervisor\", \"name\": \"Andy Lomas\"}, {\"credit_id\": \"5592b1bfc3a368775d0010e7\", \"department\": \"Crew\", \"gender\": 0, \"id\": 1483228, \"job\": \"CG Supervisor\", \"name\": \"Sebastian Marino\"}, {\"credit_id\": \"5592b2049251415df8001078\", \"department\": \"Crew\", \"gender\": 0, \"id\": 1483229, \"job\": \"CG Supervisor\", \"name\": \"Matthias Menz\"}, {\"credit_id\": \"5592b27b92514152d800136a\", \"department\": \"Crew\", \"gender\": 0, \"id\": 1483230, \"job\": \"CG Supervisor\", \"name\": \"Sergei Nevshupov\"}, {\"credit_id\": \"5592b2c3c3a36869e800003c\", \"department\": \"Crew\", \"gender\": 0, \"id\": 1483231, \"job\": \"CG Supervisor\", \"name\": \"Philippe Rebours\"}, {\"credit_id\": \"5592b317c3a36877470012af\", \"department\": \"Crew\", \"gender\": 0, \"id\": 1483232, \"job\": \"CG Supervisor\", \"name\": \"Michael Takarangi\"}, {\"credit_id\": \"5592b345c3a36877470012bb\", \"department\": \"Crew\", \"gender\": 0, \"id\": 1483233, \"job\": \"CG Supervisor\", \"name\": \"David Weitzberg\"}, {\"credit_id\": \"5592b37cc3a368775100113b\", \"department\": \"Crew\", \"gender\": 0, \"id\": 1483234, \"job\": \"CG Supervisor\", \"name\": \"Ben White\"}, {\"credit_id\": \"573c8e2f9251413f5d000094\", \"department\": \"Crew\", \"gender\": 1, \"id\": 1621932, \"job\": \"Stunts\", \"name\": \"Min Windle\"}]'"
      ]
     },
     "execution_count": 30,
     "metadata": {},
     "output_type": "execute_result"
    }
   ],
   "source": [
    "movies['crew'][0]"
   ]
  },
  {
   "cell_type": "code",
   "execution_count": 31,
   "id": "82b99c39-4b13-4688-96a5-cde062f9a53e",
   "metadata": {},
   "outputs": [],
   "source": [
    "## in the director we have multiple dicts and in each dict we have a job role,\n",
    "## but we want only the job role of director and we can fetch the name from there\n",
    "def convert_director(obj):\n",
    "    l=[]\n",
    "    for i in ast.literal_eval(obj):\n",
    "        if i['job'] == 'Director' :\n",
    "            l.append(i['name'])\n",
    "    return l"
   ]
  },
  {
   "cell_type": "code",
   "execution_count": 32,
   "id": "88641a13-640e-42c4-9000-c28dc46271ad",
   "metadata": {},
   "outputs": [
    {
     "data": {
      "text/plain": [
       "['James Cameron']"
      ]
     },
     "execution_count": 32,
     "metadata": {},
     "output_type": "execute_result"
    }
   ],
   "source": [
    "convert_director(movies['crew'][0])"
   ]
  },
  {
   "cell_type": "code",
   "execution_count": 33,
   "id": "acb042fa-fdfa-4eff-8492-c29260109606",
   "metadata": {},
   "outputs": [],
   "source": [
    "movies['crew'] = movies['crew'].apply(convert_director)"
   ]
  },
  {
   "cell_type": "markdown",
   "id": "6d2b35eb-ae44-4de7-8ca9-b40ed12a1574",
   "metadata": {},
   "source": [
    "next we convert the overview feature to type list so that we can add with the other columns as they are also lists "
   ]
  },
  {
   "cell_type": "code",
   "execution_count": 34,
   "id": "e8820a85-d5f5-4f8f-8fc1-6cee81f5c8db",
   "metadata": {},
   "outputs": [],
   "source": [
    "movies['overview'] = movies['overview'].apply(lambda x:x.split())"
   ]
  },
  {
   "cell_type": "code",
   "execution_count": 35,
   "id": "051f65b1-e33c-44b0-9ee5-731d8e4a3cf6",
   "metadata": {},
   "outputs": [
    {
     "data": {
      "text/plain": [
       "0    [In, the, 22nd, century,, a, paraplegic, Marin...\n",
       "Name: overview, dtype: object"
      ]
     },
     "execution_count": 35,
     "metadata": {},
     "output_type": "execute_result"
    }
   ],
   "source": [
    "movies.head(1)['overview']"
   ]
  },
  {
   "cell_type": "markdown",
   "id": "08376abc-49ea-4d00-a496-3ad5289db2da",
   "metadata": {},
   "source": [
    "next step is to remove spaces between words to avoid any confusion while our model is learning "
   ]
  },
  {
   "cell_type": "code",
   "execution_count": 36,
   "id": "add02f2e-f3cb-4309-bd1a-bd3b1b5b567f",
   "metadata": {},
   "outputs": [
    {
     "data": {
      "text/html": [
       "<div>\n",
       "<style scoped>\n",
       "    .dataframe tbody tr th:only-of-type {\n",
       "        vertical-align: middle;\n",
       "    }\n",
       "\n",
       "    .dataframe tbody tr th {\n",
       "        vertical-align: top;\n",
       "    }\n",
       "\n",
       "    .dataframe thead th {\n",
       "        text-align: right;\n",
       "    }\n",
       "</style>\n",
       "<table border=\"1\" class=\"dataframe\">\n",
       "  <thead>\n",
       "    <tr style=\"text-align: right;\">\n",
       "      <th></th>\n",
       "      <th>movie_id</th>\n",
       "      <th>title</th>\n",
       "      <th>overview</th>\n",
       "      <th>genres</th>\n",
       "      <th>keywords</th>\n",
       "      <th>cast</th>\n",
       "      <th>crew</th>\n",
       "    </tr>\n",
       "  </thead>\n",
       "  <tbody>\n",
       "    <tr>\n",
       "      <th>0</th>\n",
       "      <td>19995</td>\n",
       "      <td>Avatar</td>\n",
       "      <td>[In, the, 22nd, century,, a, paraplegic, Marin...</td>\n",
       "      <td>[Action, Adventure, Fantasy, Science Fiction]</td>\n",
       "      <td>[culture clash, future, space war, space colon...</td>\n",
       "      <td>[Sam Worthington, Zoe Saldana, Sigourney Weaver]</td>\n",
       "      <td>[James Cameron]</td>\n",
       "    </tr>\n",
       "    <tr>\n",
       "      <th>1</th>\n",
       "      <td>285</td>\n",
       "      <td>Pirates of the Caribbean: At World's End</td>\n",
       "      <td>[Captain, Barbossa,, long, believed, to, be, d...</td>\n",
       "      <td>[Adventure, Fantasy, Action]</td>\n",
       "      <td>[ocean, drug abuse, exotic island, east india ...</td>\n",
       "      <td>[Johnny Depp, Orlando Bloom, Keira Knightley]</td>\n",
       "      <td>[Gore Verbinski]</td>\n",
       "    </tr>\n",
       "    <tr>\n",
       "      <th>2</th>\n",
       "      <td>206647</td>\n",
       "      <td>Spectre</td>\n",
       "      <td>[A, cryptic, message, from, Bond’s, past, send...</td>\n",
       "      <td>[Action, Adventure, Crime]</td>\n",
       "      <td>[spy, based on novel, secret agent, sequel, mi...</td>\n",
       "      <td>[Daniel Craig, Christoph Waltz, Léa Seydoux]</td>\n",
       "      <td>[Sam Mendes]</td>\n",
       "    </tr>\n",
       "    <tr>\n",
       "      <th>3</th>\n",
       "      <td>49026</td>\n",
       "      <td>The Dark Knight Rises</td>\n",
       "      <td>[Following, the, death, of, District, Attorney...</td>\n",
       "      <td>[Action, Crime, Drama, Thriller]</td>\n",
       "      <td>[dc comics, crime fighter, terrorist, secret i...</td>\n",
       "      <td>[Christian Bale, Michael Caine, Gary Oldman]</td>\n",
       "      <td>[Christopher Nolan]</td>\n",
       "    </tr>\n",
       "    <tr>\n",
       "      <th>4</th>\n",
       "      <td>49529</td>\n",
       "      <td>John Carter</td>\n",
       "      <td>[John, Carter, is, a, war-weary,, former, mili...</td>\n",
       "      <td>[Action, Adventure, Science Fiction]</td>\n",
       "      <td>[based on novel, mars, medallion, space travel...</td>\n",
       "      <td>[Taylor Kitsch, Lynn Collins, Samantha Morton]</td>\n",
       "      <td>[Andrew Stanton]</td>\n",
       "    </tr>\n",
       "  </tbody>\n",
       "</table>\n",
       "</div>"
      ],
      "text/plain": [
       "   movie_id                                     title  \\\n",
       "0     19995                                    Avatar   \n",
       "1       285  Pirates of the Caribbean: At World's End   \n",
       "2    206647                                   Spectre   \n",
       "3     49026                     The Dark Knight Rises   \n",
       "4     49529                               John Carter   \n",
       "\n",
       "                                            overview  \\\n",
       "0  [In, the, 22nd, century,, a, paraplegic, Marin...   \n",
       "1  [Captain, Barbossa,, long, believed, to, be, d...   \n",
       "2  [A, cryptic, message, from, Bond’s, past, send...   \n",
       "3  [Following, the, death, of, District, Attorney...   \n",
       "4  [John, Carter, is, a, war-weary,, former, mili...   \n",
       "\n",
       "                                          genres  \\\n",
       "0  [Action, Adventure, Fantasy, Science Fiction]   \n",
       "1                   [Adventure, Fantasy, Action]   \n",
       "2                     [Action, Adventure, Crime]   \n",
       "3               [Action, Crime, Drama, Thriller]   \n",
       "4           [Action, Adventure, Science Fiction]   \n",
       "\n",
       "                                            keywords  \\\n",
       "0  [culture clash, future, space war, space colon...   \n",
       "1  [ocean, drug abuse, exotic island, east india ...   \n",
       "2  [spy, based on novel, secret agent, sequel, mi...   \n",
       "3  [dc comics, crime fighter, terrorist, secret i...   \n",
       "4  [based on novel, mars, medallion, space travel...   \n",
       "\n",
       "                                               cast                 crew  \n",
       "0  [Sam Worthington, Zoe Saldana, Sigourney Weaver]      [James Cameron]  \n",
       "1     [Johnny Depp, Orlando Bloom, Keira Knightley]     [Gore Verbinski]  \n",
       "2      [Daniel Craig, Christoph Waltz, Léa Seydoux]         [Sam Mendes]  \n",
       "3      [Christian Bale, Michael Caine, Gary Oldman]  [Christopher Nolan]  \n",
       "4    [Taylor Kitsch, Lynn Collins, Samantha Morton]     [Andrew Stanton]  "
      ]
     },
     "execution_count": 36,
     "metadata": {},
     "output_type": "execute_result"
    }
   ],
   "source": [
    "movies.head()"
   ]
  },
  {
   "cell_type": "code",
   "execution_count": 37,
   "id": "9b967c90-b5c0-4f94-b9ab-27a7af721bda",
   "metadata": {},
   "outputs": [],
   "source": [
    "movies['overview'] = movies['overview'].apply(lambda x : [i.replace (\" \" , \"\") for i in x])\n",
    "movies['genres'] = movies['genres'].apply(lambda x : [i.replace (\" \" , \"\") for i in x])\n",
    "movies['keywords'] = movies['keywords'].apply(lambda x : [i.replace (\" \" , \"\") for i in x])\n",
    "movies['cast'] = movies['cast'].apply(lambda x : [i.replace (\" \" , \"\") for i in x])\n",
    "movies['crew'] = movies['crew'].apply(lambda x : [i.replace (\" \" , \"\") for i in x])\n"
   ]
  },
  {
   "cell_type": "code",
   "execution_count": 38,
   "id": "9b53aa30-405e-4e54-b560-062d65dc3200",
   "metadata": {},
   "outputs": [
    {
     "data": {
      "text/html": [
       "<div>\n",
       "<style scoped>\n",
       "    .dataframe tbody tr th:only-of-type {\n",
       "        vertical-align: middle;\n",
       "    }\n",
       "\n",
       "    .dataframe tbody tr th {\n",
       "        vertical-align: top;\n",
       "    }\n",
       "\n",
       "    .dataframe thead th {\n",
       "        text-align: right;\n",
       "    }\n",
       "</style>\n",
       "<table border=\"1\" class=\"dataframe\">\n",
       "  <thead>\n",
       "    <tr style=\"text-align: right;\">\n",
       "      <th></th>\n",
       "      <th>movie_id</th>\n",
       "      <th>title</th>\n",
       "      <th>overview</th>\n",
       "      <th>genres</th>\n",
       "      <th>keywords</th>\n",
       "      <th>cast</th>\n",
       "      <th>crew</th>\n",
       "    </tr>\n",
       "  </thead>\n",
       "  <tbody>\n",
       "    <tr>\n",
       "      <th>0</th>\n",
       "      <td>19995</td>\n",
       "      <td>Avatar</td>\n",
       "      <td>[In, the, 22nd, century,, a, paraplegic, Marin...</td>\n",
       "      <td>[Action, Adventure, Fantasy, ScienceFiction]</td>\n",
       "      <td>[cultureclash, future, spacewar, spacecolony, ...</td>\n",
       "      <td>[SamWorthington, ZoeSaldana, SigourneyWeaver]</td>\n",
       "      <td>[JamesCameron]</td>\n",
       "    </tr>\n",
       "    <tr>\n",
       "      <th>1</th>\n",
       "      <td>285</td>\n",
       "      <td>Pirates of the Caribbean: At World's End</td>\n",
       "      <td>[Captain, Barbossa,, long, believed, to, be, d...</td>\n",
       "      <td>[Adventure, Fantasy, Action]</td>\n",
       "      <td>[ocean, drugabuse, exoticisland, eastindiatrad...</td>\n",
       "      <td>[JohnnyDepp, OrlandoBloom, KeiraKnightley]</td>\n",
       "      <td>[GoreVerbinski]</td>\n",
       "    </tr>\n",
       "    <tr>\n",
       "      <th>2</th>\n",
       "      <td>206647</td>\n",
       "      <td>Spectre</td>\n",
       "      <td>[A, cryptic, message, from, Bond’s, past, send...</td>\n",
       "      <td>[Action, Adventure, Crime]</td>\n",
       "      <td>[spy, basedonnovel, secretagent, sequel, mi6, ...</td>\n",
       "      <td>[DanielCraig, ChristophWaltz, LéaSeydoux]</td>\n",
       "      <td>[SamMendes]</td>\n",
       "    </tr>\n",
       "    <tr>\n",
       "      <th>3</th>\n",
       "      <td>49026</td>\n",
       "      <td>The Dark Knight Rises</td>\n",
       "      <td>[Following, the, death, of, District, Attorney...</td>\n",
       "      <td>[Action, Crime, Drama, Thriller]</td>\n",
       "      <td>[dccomics, crimefighter, terrorist, secretiden...</td>\n",
       "      <td>[ChristianBale, MichaelCaine, GaryOldman]</td>\n",
       "      <td>[ChristopherNolan]</td>\n",
       "    </tr>\n",
       "    <tr>\n",
       "      <th>4</th>\n",
       "      <td>49529</td>\n",
       "      <td>John Carter</td>\n",
       "      <td>[John, Carter, is, a, war-weary,, former, mili...</td>\n",
       "      <td>[Action, Adventure, ScienceFiction]</td>\n",
       "      <td>[basedonnovel, mars, medallion, spacetravel, p...</td>\n",
       "      <td>[TaylorKitsch, LynnCollins, SamanthaMorton]</td>\n",
       "      <td>[AndrewStanton]</td>\n",
       "    </tr>\n",
       "  </tbody>\n",
       "</table>\n",
       "</div>"
      ],
      "text/plain": [
       "   movie_id                                     title  \\\n",
       "0     19995                                    Avatar   \n",
       "1       285  Pirates of the Caribbean: At World's End   \n",
       "2    206647                                   Spectre   \n",
       "3     49026                     The Dark Knight Rises   \n",
       "4     49529                               John Carter   \n",
       "\n",
       "                                            overview  \\\n",
       "0  [In, the, 22nd, century,, a, paraplegic, Marin...   \n",
       "1  [Captain, Barbossa,, long, believed, to, be, d...   \n",
       "2  [A, cryptic, message, from, Bond’s, past, send...   \n",
       "3  [Following, the, death, of, District, Attorney...   \n",
       "4  [John, Carter, is, a, war-weary,, former, mili...   \n",
       "\n",
       "                                         genres  \\\n",
       "0  [Action, Adventure, Fantasy, ScienceFiction]   \n",
       "1                  [Adventure, Fantasy, Action]   \n",
       "2                    [Action, Adventure, Crime]   \n",
       "3              [Action, Crime, Drama, Thriller]   \n",
       "4           [Action, Adventure, ScienceFiction]   \n",
       "\n",
       "                                            keywords  \\\n",
       "0  [cultureclash, future, spacewar, spacecolony, ...   \n",
       "1  [ocean, drugabuse, exoticisland, eastindiatrad...   \n",
       "2  [spy, basedonnovel, secretagent, sequel, mi6, ...   \n",
       "3  [dccomics, crimefighter, terrorist, secretiden...   \n",
       "4  [basedonnovel, mars, medallion, spacetravel, p...   \n",
       "\n",
       "                                            cast                crew  \n",
       "0  [SamWorthington, ZoeSaldana, SigourneyWeaver]      [JamesCameron]  \n",
       "1     [JohnnyDepp, OrlandoBloom, KeiraKnightley]     [GoreVerbinski]  \n",
       "2      [DanielCraig, ChristophWaltz, LéaSeydoux]         [SamMendes]  \n",
       "3      [ChristianBale, MichaelCaine, GaryOldman]  [ChristopherNolan]  \n",
       "4    [TaylorKitsch, LynnCollins, SamanthaMorton]     [AndrewStanton]  "
      ]
     },
     "execution_count": 38,
     "metadata": {},
     "output_type": "execute_result"
    }
   ],
   "source": [
    "movies.head()"
   ]
  },
  {
   "cell_type": "code",
   "execution_count": 39,
   "id": "3fd5e041-eb34-40e2-af9e-2d0cf42ed78e",
   "metadata": {},
   "outputs": [],
   "source": [
    "movies['tags'] = movies['overview'] + movies['genres'] + movies['keywords'] + movies['cast'] + movies['crew']"
   ]
  },
  {
   "cell_type": "code",
   "execution_count": 40,
   "id": "ee8c2b1d-0aac-47b9-8a61-2d83aac811c1",
   "metadata": {},
   "outputs": [
    {
     "data": {
      "text/html": [
       "<div>\n",
       "<style scoped>\n",
       "    .dataframe tbody tr th:only-of-type {\n",
       "        vertical-align: middle;\n",
       "    }\n",
       "\n",
       "    .dataframe tbody tr th {\n",
       "        vertical-align: top;\n",
       "    }\n",
       "\n",
       "    .dataframe thead th {\n",
       "        text-align: right;\n",
       "    }\n",
       "</style>\n",
       "<table border=\"1\" class=\"dataframe\">\n",
       "  <thead>\n",
       "    <tr style=\"text-align: right;\">\n",
       "      <th></th>\n",
       "      <th>movie_id</th>\n",
       "      <th>title</th>\n",
       "      <th>overview</th>\n",
       "      <th>genres</th>\n",
       "      <th>keywords</th>\n",
       "      <th>cast</th>\n",
       "      <th>crew</th>\n",
       "      <th>tags</th>\n",
       "    </tr>\n",
       "  </thead>\n",
       "  <tbody>\n",
       "    <tr>\n",
       "      <th>0</th>\n",
       "      <td>19995</td>\n",
       "      <td>Avatar</td>\n",
       "      <td>[In, the, 22nd, century,, a, paraplegic, Marin...</td>\n",
       "      <td>[Action, Adventure, Fantasy, ScienceFiction]</td>\n",
       "      <td>[cultureclash, future, spacewar, spacecolony, ...</td>\n",
       "      <td>[SamWorthington, ZoeSaldana, SigourneyWeaver]</td>\n",
       "      <td>[JamesCameron]</td>\n",
       "      <td>[In, the, 22nd, century,, a, paraplegic, Marin...</td>\n",
       "    </tr>\n",
       "  </tbody>\n",
       "</table>\n",
       "</div>"
      ],
      "text/plain": [
       "   movie_id   title                                           overview  \\\n",
       "0     19995  Avatar  [In, the, 22nd, century,, a, paraplegic, Marin...   \n",
       "\n",
       "                                         genres  \\\n",
       "0  [Action, Adventure, Fantasy, ScienceFiction]   \n",
       "\n",
       "                                            keywords  \\\n",
       "0  [cultureclash, future, spacewar, spacecolony, ...   \n",
       "\n",
       "                                            cast            crew  \\\n",
       "0  [SamWorthington, ZoeSaldana, SigourneyWeaver]  [JamesCameron]   \n",
       "\n",
       "                                                tags  \n",
       "0  [In, the, 22nd, century,, a, paraplegic, Marin...  "
      ]
     },
     "execution_count": 40,
     "metadata": {},
     "output_type": "execute_result"
    }
   ],
   "source": [
    "movies.head(1)"
   ]
  },
  {
   "cell_type": "code",
   "execution_count": 41,
   "id": "b6c19fd6-1be8-4f55-9117-b72be877a314",
   "metadata": {},
   "outputs": [],
   "source": [
    "movies_2 = movies[['movie_id', 'title' , 'tags']]"
   ]
  },
  {
   "cell_type": "code",
   "execution_count": 42,
   "id": "9ae1d842-59e6-41aa-a576-90f563b72083",
   "metadata": {},
   "outputs": [
    {
     "data": {
      "text/html": [
       "<div>\n",
       "<style scoped>\n",
       "    .dataframe tbody tr th:only-of-type {\n",
       "        vertical-align: middle;\n",
       "    }\n",
       "\n",
       "    .dataframe tbody tr th {\n",
       "        vertical-align: top;\n",
       "    }\n",
       "\n",
       "    .dataframe thead th {\n",
       "        text-align: right;\n",
       "    }\n",
       "</style>\n",
       "<table border=\"1\" class=\"dataframe\">\n",
       "  <thead>\n",
       "    <tr style=\"text-align: right;\">\n",
       "      <th></th>\n",
       "      <th>movie_id</th>\n",
       "      <th>title</th>\n",
       "      <th>tags</th>\n",
       "    </tr>\n",
       "  </thead>\n",
       "  <tbody>\n",
       "    <tr>\n",
       "      <th>0</th>\n",
       "      <td>19995</td>\n",
       "      <td>Avatar</td>\n",
       "      <td>[In, the, 22nd, century,, a, paraplegic, Marin...</td>\n",
       "    </tr>\n",
       "  </tbody>\n",
       "</table>\n",
       "</div>"
      ],
      "text/plain": [
       "   movie_id   title                                               tags\n",
       "0     19995  Avatar  [In, the, 22nd, century,, a, paraplegic, Marin..."
      ]
     },
     "execution_count": 42,
     "metadata": {},
     "output_type": "execute_result"
    }
   ],
   "source": [
    "movies_2.head(1)"
   ]
  },
  {
   "cell_type": "code",
   "execution_count": 43,
   "id": "0573681d-c5ed-4542-adeb-6591b062a41a",
   "metadata": {},
   "outputs": [
    {
     "name": "stderr",
     "output_type": "stream",
     "text": [
      "C:\\Users\\we\\AppData\\Local\\Temp\\ipykernel_8544\\4003047041.py:1: SettingWithCopyWarning: \n",
      "A value is trying to be set on a copy of a slice from a DataFrame.\n",
      "Try using .loc[row_indexer,col_indexer] = value instead\n",
      "\n",
      "See the caveats in the documentation: https://pandas.pydata.org/pandas-docs/stable/user_guide/indexing.html#returning-a-view-versus-a-copy\n",
      "  movies_2['tags'] = movies_2['tags'].apply( lambda x : \" \".join(x))\n"
     ]
    }
   ],
   "source": [
    "movies_2['tags'] = movies_2['tags'].apply( lambda x : \" \".join(x))"
   ]
  },
  {
   "cell_type": "code",
   "execution_count": 44,
   "id": "15736ec9-4ef6-4793-8c8b-452315b314c2",
   "metadata": {},
   "outputs": [
    {
     "data": {
      "text/html": [
       "<div>\n",
       "<style scoped>\n",
       "    .dataframe tbody tr th:only-of-type {\n",
       "        vertical-align: middle;\n",
       "    }\n",
       "\n",
       "    .dataframe tbody tr th {\n",
       "        vertical-align: top;\n",
       "    }\n",
       "\n",
       "    .dataframe thead th {\n",
       "        text-align: right;\n",
       "    }\n",
       "</style>\n",
       "<table border=\"1\" class=\"dataframe\">\n",
       "  <thead>\n",
       "    <tr style=\"text-align: right;\">\n",
       "      <th></th>\n",
       "      <th>movie_id</th>\n",
       "      <th>title</th>\n",
       "      <th>tags</th>\n",
       "    </tr>\n",
       "  </thead>\n",
       "  <tbody>\n",
       "    <tr>\n",
       "      <th>0</th>\n",
       "      <td>19995</td>\n",
       "      <td>Avatar</td>\n",
       "      <td>In the 22nd century, a paraplegic Marine is di...</td>\n",
       "    </tr>\n",
       "    <tr>\n",
       "      <th>1</th>\n",
       "      <td>285</td>\n",
       "      <td>Pirates of the Caribbean: At World's End</td>\n",
       "      <td>Captain Barbossa, long believed to be dead, ha...</td>\n",
       "    </tr>\n",
       "  </tbody>\n",
       "</table>\n",
       "</div>"
      ],
      "text/plain": [
       "   movie_id                                     title  \\\n",
       "0     19995                                    Avatar   \n",
       "1       285  Pirates of the Caribbean: At World's End   \n",
       "\n",
       "                                                tags  \n",
       "0  In the 22nd century, a paraplegic Marine is di...  \n",
       "1  Captain Barbossa, long believed to be dead, ha...  "
      ]
     },
     "execution_count": 44,
     "metadata": {},
     "output_type": "execute_result"
    }
   ],
   "source": [
    "movies_2.head(2)"
   ]
  },
  {
   "cell_type": "code",
   "execution_count": 45,
   "id": "4c8723e5-656e-46d9-9c9e-334ce0b673f8",
   "metadata": {},
   "outputs": [
    {
     "data": {
      "text/plain": [
       "'In the 22nd century, a paraplegic Marine is dispatched to the moon Pandora on a unique mission, but becomes torn between following orders and protecting an alien civilization. Action Adventure Fantasy ScienceFiction cultureclash future spacewar spacecolony society spacetravel futuristic romance space alien tribe alienplanet cgi marine soldier battle loveaffair antiwar powerrelations mindandsoul 3d SamWorthington ZoeSaldana SigourneyWeaver JamesCameron'"
      ]
     },
     "execution_count": 45,
     "metadata": {},
     "output_type": "execute_result"
    }
   ],
   "source": [
    "movies_2['tags'][0]"
   ]
  },
  {
   "cell_type": "code",
   "execution_count": 46,
   "id": "9b149cea-03d0-4348-aff1-f9334b9aca01",
   "metadata": {},
   "outputs": [
    {
     "name": "stderr",
     "output_type": "stream",
     "text": [
      "C:\\Users\\we\\AppData\\Local\\Temp\\ipykernel_8544\\3573496437.py:1: SettingWithCopyWarning: \n",
      "A value is trying to be set on a copy of a slice from a DataFrame.\n",
      "Try using .loc[row_indexer,col_indexer] = value instead\n",
      "\n",
      "See the caveats in the documentation: https://pandas.pydata.org/pandas-docs/stable/user_guide/indexing.html#returning-a-view-versus-a-copy\n",
      "  movies_2['tags'] = movies_2['tags'].apply( lambda x : x.lower())\n"
     ]
    }
   ],
   "source": [
    "movies_2['tags'] = movies_2['tags'].apply( lambda x : x.lower())"
   ]
  },
  {
   "cell_type": "code",
   "execution_count": 47,
   "id": "78e4fa8b-51d7-47f7-93ae-bb25d3291346",
   "metadata": {},
   "outputs": [
    {
     "data": {
      "text/plain": [
       "'in the 22nd century, a paraplegic marine is dispatched to the moon pandora on a unique mission, but becomes torn between following orders and protecting an alien civilization. action adventure fantasy sciencefiction cultureclash future spacewar spacecolony society spacetravel futuristic romance space alien tribe alienplanet cgi marine soldier battle loveaffair antiwar powerrelations mindandsoul 3d samworthington zoesaldana sigourneyweaver jamescameron'"
      ]
     },
     "execution_count": 47,
     "metadata": {},
     "output_type": "execute_result"
    }
   ],
   "source": [
    "movies_2['tags'][0]"
   ]
  },
  {
   "cell_type": "markdown",
   "id": "6ca0f6b7-26e1-4477-9b77-5c47f1b7dbc5",
   "metadata": {},
   "source": [
    "now converting those tags into vectors(text vectorization ) and the method we are using is called as bag of words <br>\n",
    "\n",
    "<p> \n",
    "<b>Breaking Down Text:</b> First, we take a piece of text, like a sentence or a paragraph, and break it into smaller parts called \"words\" or \"tokens\".<br>\n",
    "in this case the column is tags<br>\n",
    "\n",
    "<b>Making a List: </b> Next, we make a list of all the unique words from all the texts we want to analyze. This list is called a \"vocabulary\".\n",
    "<br> in this case we took max_features =5000 so 5000 unique words will be created  <br>\n",
    "\n",
    "<b>Counting Words:  </b> For each piece of text, we count how many times each word from our vocabulary shows up.\n",
    "\n",
    "<b>Creating Vectors:</b> We then create a list (or vector) of numbers for each piece of text. Each number in the list shows how many times each word from the vocabulary appeared in that piece of text.</p>"
   ]
  },
  {
   "cell_type": "code",
   "execution_count": 54,
   "id": "d22d2bde-863b-4200-9bb9-543f40606dfd",
   "metadata": {},
   "outputs": [],
   "source": [
    "from sklearn.feature_extraction.text import CountVectorizer\n",
    "\n",
    "cv = CountVectorizer(max_features = 5000 , stop_words = 'english')"
   ]
  },
  {
   "cell_type": "code",
   "execution_count": 55,
   "id": "4eeabbb7-80aa-4e69-b790-45ab4d485d02",
   "metadata": {},
   "outputs": [],
   "source": [
    "vectors = cv.fit_transform(movies_2['tags']).toarray()"
   ]
  },
  {
   "cell_type": "code",
   "execution_count": 56,
   "id": "9f68ef06-3f92-481a-85ac-6553e74ef923",
   "metadata": {},
   "outputs": [
    {
     "data": {
      "text/plain": [
       "(4806, 5000)"
      ]
     },
     "execution_count": 56,
     "metadata": {},
     "output_type": "execute_result"
    }
   ],
   "source": [
    "vectors.shape"
   ]
  },
  {
   "cell_type": "markdown",
   "id": "b8db4905-2891-4741-81df-0d93b2b74643",
   "metadata": {},
   "source": [
    "# Example"
   ]
  },
  {
   "cell_type": "markdown",
   "id": "91342966-aacc-4d1a-ae6a-7f42bfa48693",
   "metadata": {},
   "source": [
    "<table>\n",
    "  <tr>\n",
    "    <th>Sentence</th>\n",
    "    <th>Tokens</th>\n",
    "  </tr>\n",
    "  <tr>\n",
    "    <td>Sentence 1</td>\n",
    "    <td>[\"I\", \"love\", \"coding\"]</td>\n",
    "  </tr>\n",
    "  <tr>\n",
    "    <td>Sentence 2</td>\n",
    "    <td>[\"Coding\", \"is\", \"fun\"]</td>\n",
    "  </tr>\n",
    "</table>\n",
    "\n",
    "<table>\n",
    "  <tr>\n",
    "    <th>Vocabulary</th>\n",
    "    <th>Counts</th>\n",
    "  </tr>\n",
    "  <tr>\n",
    "    <td>\"I\"</td>\n",
    "    <td>1</td>\n",
    "  </tr>\n",
    "  <tr>\n",
    "    <td>\"love\"</td>\n",
    "    <td>1</td>\n",
    "  </tr>\n",
    "  <tr>\n",
    "    <td>\"coding\"</td>\n",
    "    <td>1 (Sentence 1), 1 (Sentence 2)</td>\n",
    "  </tr>\n",
    "  <tr>\n",
    "    <td>\"is\"</td>\n",
    "    <td>0 (Sentence 1), 1 (Sentence 2)</td>\n",
    "  </tr>\n",
    "  <tr>\n",
    "    <td>\"fun\"</td>\n",
    "    <td>0 (Sentence 1), 1 (Sentence 2)</td>\n",
    "  </tr>\n",
    "</table>\n",
    "\n",
    "<table>\n",
    "  <tr>\n",
    "    <th>Sentence</th>\n",
    "    <th>Vector Representation</th>\n",
    "  </tr>\n",
    "  <tr>\n",
    "    <td>Sentence 1</td>\n",
    "    <td>[1, 1, 1, 0, 0]</td>\n",
    "  </tr>\n",
    "  <tr>\n",
    "    <td>Sentence 2</td>\n",
    "    <td>[0, 0, 1, 1, 1]</td>\n",
    "  </tr>\n",
    "</table>\n"
   ]
  },
  {
   "cell_type": "markdown",
   "id": "a8227c95-5125-40db-bd60-e5d3c3b180d5",
   "metadata": {},
   "source": [
    "# Stemming \n",
    "\n",
    "<p>\n",
    "Stemming is a text processing technique used in natural language processing (NLP) to reduce words to their root or base form, even if the root form may not be a valid word itself. It's useful because it helps in reducing variations of words so that they can be treated as the same word during analysis. <br>\n",
    "<h3>How Stemming Works:</h3>\n",
    "\n",
    "<b>Reducing Words: </b>\n",
    "Stemming cuts off prefixes and suffixes from words to derive their \"stem\". For example, the stem of \"running\" is \"run\", and the stem of \"cats\" is \"cat\".\n",
    "<br>\n",
    "\n",
    "<b>Handling Variations: </b> By reducing words to their stems, stemming allows different forms of the same word to be treated as one word. This is helpful for tasks like text classification or information retrieval.</p>\n",
    "\n",
    "<br>\n",
    "\n",
    "<p> \n",
    "\n",
    "<h3>Why Use Stemming:</h3> <br>\n",
    "<b>Reduces Vocabulary Size:</b> By reducing words to their base forms, stemming helps in reducing the number of unique words (vocabulary size), which can improve the performance of text analysis models. <br>\n",
    "\n",
    "<b>Normalization:</b> It helps in treating different forms of the same word as identical, which can be crucial for tasks like search engines (treating \"run\", \"running\", \"ran\" as the same).\n",
    "<br>\n",
    "\n",
    "<h3>Limitations:</h3>\n",
    "<b>Over-stemming:</b> Sometimes stemming can be too aggressive and reduce words to stems that are not valid words or lose too much meaning (e.g., \"university\" becoming \"univers\" instead of \"university\"). <br>\n",
    "\n",
    "<b>Language Specific: </b>Stemmers are designed for specific languages and may not work well for all cases or all languages.</p> <br>\n"
   ]
  },
  {
   "cell_type": "markdown",
   "id": "25df5dae-36d7-416a-a902-46a65167d6c1",
   "metadata": {},
   "source": [
    "<table>\n",
    "  <tr>\n",
    "    <th>Original Words</th>\n",
    "    <th>Stemmed Forms</th>\n",
    "  </tr>\n",
    "  <tr>\n",
    "    <td>running</td>\n",
    "    <td>run</td>\n",
    "  </tr>\n",
    "  <tr>\n",
    "    <td>runs</td>\n",
    "    <td>run</td>\n",
    "  </tr>\n",
    "  <tr>\n",
    "    <td>runner</td>\n",
    "    <td>run</td>\n",
    "  </tr>\n",
    "  <tr>\n",
    "    <td>ran</td>\n",
    "    <td>ran</td>\n",
    "  </tr>\n",
    "</table>\n"
   ]
  },
  {
   "cell_type": "code",
   "execution_count": 51,
   "id": "d562849a-7a71-44f2-9a5c-df1c10f5797b",
   "metadata": {},
   "outputs": [],
   "source": [
    "import nltk\n",
    "from nltk.stem.porter import PorterStemmer\n",
    "\n",
    "ps= PorterStemmer()\n",
    "def stem(text):\n",
    "    y= []\n",
    "    for i in text.split():\n",
    "        y.append(ps.stem(i))\n",
    "    return \" \".join(y)\n",
    "    \n",
    "\n"
   ]
  },
  {
   "cell_type": "code",
   "execution_count": 52,
   "id": "d31d78e0-f5da-4693-bd21-55575b053ffc",
   "metadata": {},
   "outputs": [
    {
     "data": {
      "text/plain": [
       "'love love'"
      ]
     },
     "execution_count": 52,
     "metadata": {},
     "output_type": "execute_result"
    }
   ],
   "source": [
    "stem('love loving')"
   ]
  },
  {
   "cell_type": "code",
   "execution_count": 53,
   "id": "aeec4415-10bc-419f-a77b-8ee0817f38b5",
   "metadata": {},
   "outputs": [
    {
     "name": "stderr",
     "output_type": "stream",
     "text": [
      "C:\\Users\\we\\AppData\\Local\\Temp\\ipykernel_8544\\1019778473.py:1: SettingWithCopyWarning: \n",
      "A value is trying to be set on a copy of a slice from a DataFrame.\n",
      "Try using .loc[row_indexer,col_indexer] = value instead\n",
      "\n",
      "See the caveats in the documentation: https://pandas.pydata.org/pandas-docs/stable/user_guide/indexing.html#returning-a-view-versus-a-copy\n",
      "  movies_2['tags'] = movies_2['tags'].apply(stem)\n"
     ]
    }
   ],
   "source": [
    "movies_2['tags'] = movies_2['tags'].apply(stem)"
   ]
  },
  {
   "cell_type": "markdown",
   "id": "0be4cd8a-48c1-4802-a817-5c65fcd9a66f",
   "metadata": {},
   "source": [
    "after running the above three cells run the three cells in vector section  "
   ]
  },
  {
   "cell_type": "code",
   "execution_count": 57,
   "id": "2b3d7202-cd8f-4e0a-bc01-35a1c16a2083",
   "metadata": {},
   "outputs": [
    {
     "data": {
      "text/plain": [
       "array(['000', '007', '10', ..., 'zone', 'zoo', 'zooeydeschanel'],\n",
       "      dtype=object)"
      ]
     },
     "execution_count": 57,
     "metadata": {},
     "output_type": "execute_result"
    }
   ],
   "source": [
    "cv.get_feature_names_out()"
   ]
  },
  {
   "cell_type": "markdown",
   "id": "9db2b74b-9d90-452b-93d0-b704d71cfb55",
   "metadata": {},
   "source": [
    "we have 4806 vectors with each of 5000 features.\n",
    "now we find the cosine distance of 1 vector with remaining (4805) vectors if the angle is less then there is a similarity and viceversa"
   ]
  },
  {
   "cell_type": "markdown",
   "id": "01336aac-bb64-428d-ba08-1a8b3dc25906",
   "metadata": {},
   "source": [
    "<img src=\"cosinedistance.png\" alt=\"alternative_text\" title=\"tooltip_text\">\n"
   ]
  },
  {
   "cell_type": "code",
   "execution_count": 58,
   "id": "e0dd0dcf-5648-4d61-acd3-3a7ab236e8e5",
   "metadata": {},
   "outputs": [],
   "source": [
    "from sklearn.metrics.pairwise import cosine_similarity\n"
   ]
  },
  {
   "cell_type": "code",
   "execution_count": 59,
   "id": "74bfb50b-3d73-4c1f-9647-108aa8997921",
   "metadata": {},
   "outputs": [],
   "source": [
    "similarity = cosine_similarity(vectors)"
   ]
  },
  {
   "cell_type": "code",
   "execution_count": 60,
   "id": "7869257c-d4d2-4dcd-8d28-ca3ed2b0a6ab",
   "metadata": {},
   "outputs": [
    {
     "data": {
      "text/plain": [
       "(4806, 4806)"
      ]
     },
     "execution_count": 60,
     "metadata": {},
     "output_type": "execute_result"
    }
   ],
   "source": [
    "similarity.shape"
   ]
  },
  {
   "cell_type": "code",
   "execution_count": 61,
   "id": "d0c1ffb6-dfb0-42fc-910d-7974f0d12974",
   "metadata": {},
   "outputs": [
    {
     "data": {
      "text/plain": [
       "array([[1.        , 0.08346223, 0.0860309 , ..., 0.04499213, 0.        ,\n",
       "        0.        ],\n",
       "       [0.08346223, 1.        , 0.06063391, ..., 0.02378257, 0.        ,\n",
       "        0.02615329],\n",
       "       [0.0860309 , 0.06063391, 1.        , ..., 0.02451452, 0.        ,\n",
       "        0.        ],\n",
       "       ...,\n",
       "       [0.04499213, 0.02378257, 0.02451452, ..., 1.        , 0.03962144,\n",
       "        0.04229549],\n",
       "       [0.        , 0.        , 0.        , ..., 0.03962144, 1.        ,\n",
       "        0.08714204],\n",
       "       [0.        , 0.02615329, 0.        , ..., 0.04229549, 0.08714204,\n",
       "        1.        ]])"
      ]
     },
     "execution_count": 61,
     "metadata": {},
     "output_type": "execute_result"
    }
   ],
   "source": [
    "similarity"
   ]
  },
  {
   "cell_type": "code",
   "execution_count": 62,
   "id": "51190939-6653-4c13-a28c-7912ba97d3db",
   "metadata": {},
   "outputs": [
    {
     "data": {
      "text/plain": [
       "0"
      ]
     },
     "execution_count": 62,
     "metadata": {},
     "output_type": "execute_result"
    }
   ],
   "source": [
    "movies_2[movies_2['title'] == 'Avatar'].index[0]"
   ]
  },
  {
   "cell_type": "code",
   "execution_count": 63,
   "id": "db49fd04-2544-405d-983c-62f9937365f9",
   "metadata": {},
   "outputs": [
    {
     "data": {
      "text/plain": [
       "array([1.        , 0.08346223, 0.0860309 , ..., 0.04499213, 0.        ,\n",
       "       0.        ])"
      ]
     },
     "execution_count": 63,
     "metadata": {},
     "output_type": "execute_result"
    }
   ],
   "source": [
    "similarity[0]"
   ]
  },
  {
   "cell_type": "code",
   "execution_count": 64,
   "id": "2be0afe7-a80d-473c-900a-a3da57593432",
   "metadata": {},
   "outputs": [
    {
     "data": {
      "text/plain": [
       "[(0, 1.0000000000000002),\n",
       " (1, 0.08346223261119858),\n",
       " (2, 0.08603090020146065),\n",
       " (3, 0.0734718358370645),\n",
       " (4, 0.1892994097121204),\n",
       " (5, 0.10838874619051501),\n",
       " (6, 0.04024218182927669),\n",
       " (7, 0.14673479641335554),\n",
       " (8, 0.05923488777590923),\n",
       " (9, 0.0967301666813349),\n",
       " (10, 0.10259783520851541),\n",
       " (11, 0.09464970485606021),\n",
       " (12, 0.09037128496931669),\n",
       " (13, 0.04499212706658476),\n",
       " (14, 0.12824729401064427),\n",
       " (15, 0.06282808624375433),\n",
       " (16, 0.07894736842105264),\n",
       " (17, 0.13977653617040256),\n",
       " (18, 0.09493290614465533),\n",
       " (19, 0.0830812984794528),\n",
       " (20, 0.058038100008800934),\n",
       " (21, 0.10968169942141635),\n",
       " (22, 0.0662266178532522),\n",
       " (23, 0.08740748201220976),\n",
       " (24, 0.0533380747062665),\n",
       " (25, 0.05101627678885769),\n",
       " (26, 0.15389675281277312),\n",
       " (27, 0.18693292157876878),\n",
       " (28, 0.116543309349613),\n",
       " (29, 0.065033247714309),\n",
       " (30, 0.06684847767323797),\n",
       " (31, 0.15907119074394446),\n",
       " (32, 0.08520286456846099),\n",
       " (33, 0.09733285267845754),\n",
       " (34, 0.0),\n",
       " (35, 0.09933992677987831),\n",
       " (36, 0.17119059581558146),\n",
       " (37, 0.07894736842105264),\n",
       " (38, 0.08111071056538127),\n",
       " (39, 0.08226127456606226),\n",
       " (40, 0.07694837640638656),\n",
       " (41, 0.16563698349810535),\n",
       " (42, 0.0),\n",
       " (43, 0.09086217008485092),\n",
       " (44, 0.03382550457458692),\n",
       " (45, 0.08175191193132876),\n",
       " (46, 0.1391037210186643),\n",
       " (47, 0.19672236884115843),\n",
       " (48, 0.08447772061910234),\n",
       " (49, 0.05923488777590923),\n",
       " (50, 0.11295649894498103),\n",
       " (51, 0.07987230638308718),\n",
       " (52, 0.14673479641335554),\n",
       " (53, 0.042973504259354006),\n",
       " (54, 0.031219527052723135),\n",
       " (55, 0.07038153430777869),\n",
       " (56, 0.13834289277321493),\n",
       " (57, 0.024182541670333724),\n",
       " (58, 0.06748819059987714),\n",
       " (59, 0.07254762501100116),\n",
       " (60, 0.018367958959266125),\n",
       " (61, 0.22269966704152225),\n",
       " (62, 0.0837707816583391),\n",
       " (63, 0.08175191193132876),\n",
       " (64, 0.029617443887954616),\n",
       " (65, 0.019529164171612674),\n",
       " (66, 0.02249606353329238),\n",
       " (67, 0.16222142113076252),\n",
       " (68, 0.1204950466257556),\n",
       " (69, 0.02649064714130088),\n",
       " (70, 0.076004188790721),\n",
       " (71, 0.07336739820667779),\n",
       " (72, 0.13710212427677043),\n",
       " (73, 0.0331133089266261),\n",
       " (74, 0.2024645717996314),\n",
       " (75, 0.10390486669322622),\n",
       " (76, 0.07175473098524099),\n",
       " (77, 0.014394823400711486),\n",
       " (78, 0.050669459193814),\n",
       " (79, 0.06282808624375433),\n",
       " (80, 0.050464733268936676),\n",
       " (81, 0.11020775375559676),\n",
       " (82, 0.076004188790721),\n",
       " (83, 0.17996850826633903),\n",
       " (84, 0.12361284651454937),\n",
       " (85, 0.1141270638770543),\n",
       " (86, 0.07098727864204515),\n",
       " (87, 0.11128297681493143),\n",
       " (88, 0.09037128496931669),\n",
       " (89, 0.057807331301608),\n",
       " (90, 0.06131393394849658),\n",
       " (91, 0.16692446522239718),\n",
       " (92, 0.0623109738595896),\n",
       " (93, 0.07098727864204515),\n",
       " (94, 0.1873171623163388),\n",
       " (95, 0.14048787173725413),\n",
       " (96, 0.07694837640638656),\n",
       " (97, 0.06952346619889824),\n",
       " (98, 0.07509392614826384),\n",
       " (99, 0.02666903735313325),\n",
       " (100, 0.06765100914917384),\n",
       " (101, 0.07694837640638656),\n",
       " (102, 0.12462194771917919),\n",
       " (103, 0.08048436365855338),\n",
       " (104, 0.05564148840746572),\n",
       " (105, 0.1037571695799112),\n",
       " (106, 0.0623109738595896),\n",
       " (107, 0.061806423257274694),\n",
       " (108, 0.14509525002200235),\n",
       " (109, 0.06488856845230502),\n",
       " (110, 0.04499212706658476),\n",
       " (111, 0.15018785229652767),\n",
       " (112, 0.07694837640638656),\n",
       " (113, 0.043355498476206004),\n",
       " (114, 0.04588314677411236),\n",
       " (115, 0.043747863925980714),\n",
       " (116, 0.04783648732349399),\n",
       " (117, 0.05923488777590923),\n",
       " (118, 0.03364315551262445),\n",
       " (119, 0.043355498476206004),\n",
       " (120, 0.0),\n",
       " (121, 0.11128297681493143),\n",
       " (122, 0.11846977555181847),\n",
       " (123, 0.10936965981495178),\n",
       " (124, 0.06748819059987714),\n",
       " (125, 0.07577352304240824),\n",
       " (126, 0.13334518676566626),\n",
       " (127, 0.14601068654819693),\n",
       " (128, 0.0),\n",
       " (129, 0.09269795493186431),\n",
       " (130, 0.027036903521793755),\n",
       " (131, 0.10526315789473685),\n",
       " (132, 0.04499212706658476),\n",
       " (133, 0.028239124736245257),\n",
       " (134, 0.12977713690461004),\n",
       " (135, 0.0),\n",
       " (136, 0.023414645289542353),\n",
       " (137, 0.0301237616564389),\n",
       " (138, 0.12824729401064427),\n",
       " (139, 0.12072654548783007),\n",
       " (140, 0.04499212706658476),\n",
       " (141, 0.08740748201220976),\n",
       " (142, 0.08471737420873576),\n",
       " (143, 0.08671099695241201),\n",
       " (144, 0.05006261743217589),\n",
       " (145, 0.019252140716412975),\n",
       " (146, 0.016222142113076255),\n",
       " (147, 0.05564148840746572),\n",
       " (148, 0.09733285267845754),\n",
       " (149, 0.15511334686589626),\n",
       " (150, 0.16426202236672155),\n",
       " (151, 0.2029530274475215),\n",
       " (152, 0.08346223261119858),\n",
       " (153, 0.07868894753646337),\n",
       " (154, 0.06131393394849658),\n",
       " (155, 0.02043797798283219),\n",
       " (156, 0.060363272743915036),\n",
       " (157, 0.09933992677987831),\n",
       " (158, 0.13369695534647594),\n",
       " (159, 0.06362847629757779),\n",
       " (160, 0.11712303424679457),\n",
       " (161, 0.03181423814878889),\n",
       " (162, 0.0331133089266261),\n",
       " (163, 0.050669459193814),\n",
       " (164, 0.08000711205939975),\n",
       " (165, 0.04588314677411236),\n",
       " (166, 0.12515654358043973),\n",
       " (167, 0.09037128496931669),\n",
       " (168, 0.17521916101261562),\n",
       " (169, 0.08830215713766959),\n",
       " (170, 0.10650358071057624),\n",
       " (171, 0.02271554252121273),\n",
       " (172, 0.21239769762143662),\n",
       " (173, 0.023174488732966077),\n",
       " (174, 0.07792865001991967),\n",
       " (175, 0.07098727864204515),\n",
       " (176, 0.02913582733740325),\n",
       " (177, 0.0),\n",
       " (178, 0.024455799402225926),\n",
       " (179, 0.07079923254047887),\n",
       " (180, 0.022075539284417398),\n",
       " (181, 0.04499212706658476),\n",
       " (182, 0.11707322644771176),\n",
       " (183, 0.07038153430777869),\n",
       " (184, 0.17521916101261562),\n",
       " (185, 0.050669459193814),\n",
       " (186, 0.05901671065234752),\n",
       " (187, 0.15389675281277312),\n",
       " (188, 0.022282825891079324),\n",
       " (189, 0.1147078669352809),\n",
       " (190, 0.08520286456846099),\n",
       " (191, 0.04891159880445185),\n",
       " (192, 0.047324852428030105),\n",
       " (193, 0.07878168645790681),\n",
       " (194, 0.0),\n",
       " (195, 0.05923488777590923),\n",
       " (196, 0.05195243334661311),\n",
       " (197, 0.036973693332326786),\n",
       " (198, 0.057353933467640436),\n",
       " (199, 0.08671099695241201),\n",
       " (200, 0.10882143751650175),\n",
       " (201, 0.0),\n",
       " (202, 0.031219527052723135),\n",
       " (203, 0.08346223261119858),\n",
       " (204, 0.04947706959952935),\n",
       " (205, 0.07443229275647868),\n",
       " (206, 0.11092107999698035),\n",
       " (207, 0.07694837640638656),\n",
       " (208, 0.12262786789699316),\n",
       " (209, 0.06765100914917384),\n",
       " (210, 0.07509392614826384),\n",
       " (211, 0.024455799402225926),\n",
       " (212, 0.06622661785325219),\n",
       " (213, 0.05901671065234752),\n",
       " (214, 0.0),\n",
       " (215, 0.06622661785325219),\n",
       " (216, 0.06488856845230502),\n",
       " (217, 0.08520286456846099),\n",
       " (218, 0.03823595564509363),\n",
       " (219, 0.09197090092274487),\n",
       " (220, 0.1777046633277277),\n",
       " (221, 0.047324852428030105),\n",
       " (222, 0.07987230638308718),\n",
       " (223, 0.10390486669322622),\n",
       " (224, 0.060833032924035954),\n",
       " (225, 0.04588314677411236),\n",
       " (226, 0.0301237616564389),\n",
       " (227, 0.08226127456606226),\n",
       " (228, 0.11037769642208699),\n",
       " (229, 0.1074861545850028),\n",
       " (230, 0.09183979479633063),\n",
       " (231, 0.0),\n",
       " (232, 0.11128297681493143),\n",
       " (233, 0.1037571695799112),\n",
       " (234, 0.08594700851870801),\n",
       " (235, 0.076004188790721),\n",
       " (236, 0.11470786693528087),\n",
       " (237, 0.0662266178532522),\n",
       " (238, 0.11092107999698035),\n",
       " (239, 0.09125667909262308),\n",
       " (240, 0.046829290579084706),\n",
       " (241, 0.07894736842105264),\n",
       " (242, 0.08111071056538127),\n",
       " (243, 0.09269795493186431),\n",
       " (244, 0.09197090092274487),\n",
       " (245, 0.08111071056538127),\n",
       " (246, 0.07594632491572426),\n",
       " (247, 0.0),\n",
       " (248, 0.04456565178215865),\n",
       " (249, 0.13834289277321493),\n",
       " (250, 0.0),\n",
       " (251, 0.04188539082916955),\n",
       " (252, 0.020277677641345318),\n",
       " (253, 0.06282808624375433),\n",
       " (254, 0.06952346619889824),\n",
       " (255, 0.0),\n",
       " (256, 0.11164843913471803),\n",
       " (257, 0.0533380747062665),\n",
       " (258, 0.01769980813511972),\n",
       " (259, 0.06131393394849658),\n",
       " (260, 0.20395079136182276),\n",
       " (261, 0.024182541670333724),\n",
       " (262, 0.10650358071057624),\n",
       " (263, 0.09733285267845754),\n",
       " (264, 0.0),\n",
       " (265, 0.02742042485535409),\n",
       " (266, 0.0989541391990587),\n",
       " (267, 0.06488856845230502),\n",
       " (268, 0.052631578947368425),\n",
       " (269, 0.029617443887954616),\n",
       " (270, 0.08830215713766959),\n",
       " (271, 0.07098727864204515),\n",
       " (272, 0.02782074420373286),\n",
       " (273, 0.021119430154775586),\n",
       " (274, 0.08977310580745099),\n",
       " (275, 0.1433848336691011),\n",
       " (276, 0.06243905410544627),\n",
       " (277, 0.053099424405359155),\n",
       " (278, 0.11707322644771176),\n",
       " (279, 0.09269795493186431),\n",
       " (280, 0.0),\n",
       " (281, 0.065033247714309),\n",
       " (282, 0.04456565178215865),\n",
       " (283, 0.02742042485535409),\n",
       " (284, 0.018251335818524617),\n",
       " (285, 0.019529164171612674),\n",
       " (286, 0.0781166566864507),\n",
       " (287, 0.025976216673306556),\n",
       " (288, 0.02742042485535409),\n",
       " (289, 0.04588314677411236),\n",
       " (290, 0.06243905410544627),\n",
       " (291, 0.05006261743217589),\n",
       " (292, 0.08885233166386385),\n",
       " (293, 0.029617443887954616),\n",
       " (294, 0.1433848336691011),\n",
       " (295, 0.10526315789473685),\n",
       " (296, 0.038778336716474064),\n",
       " (297, 0.044151078568834795),\n",
       " (298, 0.0),\n",
       " (299, 0.05945550264670635),\n",
       " (300, 0.1711905958155815),\n",
       " (301, 0.09243423333081696),\n",
       " (302, 0.07024393586862707),\n",
       " (303, 0.02782074420373286),\n",
       " (304, 0.06578947368421054),\n",
       " (305, 0.19007487139298027),\n",
       " (306, 0.08111071056538127),\n",
       " (307, 0.10876595882948199),\n",
       " (308, 0.06765100914917384),\n",
       " (309, 0.06243905410544627),\n",
       " (310, 0.03065696697424829),\n",
       " (311, 0.15018785229652765),\n",
       " (312, 0.10012523486435178),\n",
       " (313, 0.05484084971070818),\n",
       " (314, 0.0),\n",
       " (315, 0.08346223261119858),\n",
       " (316, 0.0),\n",
       " (317, 0.0),\n",
       " (318, 0.0),\n",
       " (319, 0.09933992677987831),\n",
       " (320, 0.0331133089266261),\n",
       " (321, 0.0),\n",
       " (322, 0.2105263157894737),\n",
       " (323, 0.029617443887954616),\n",
       " (324, 0.024182541670333724),\n",
       " (325, 0.09933992677987831),\n",
       " (326, 0.05647824947249051),\n",
       " (327, 0.027036903521793755),\n",
       " (328, 0.02742042485535409),\n",
       " (329, 0.07894736842105264),\n",
       " (330, 0.10012523486435178),\n",
       " (331, 0.08998425413316952),\n",
       " (332, 0.106676149412533),\n",
       " (333, 0.024455799402225926),\n",
       " (334, 0.0967301666813349),\n",
       " (335, 0.046348977465932154),\n",
       " (336, 0.06917144638660747),\n",
       " (337, 0.04543108504242546),\n",
       " (338, 0.0),\n",
       " (339, 0.04891159880445185),\n",
       " (340, 0.04947706959952935),\n",
       " (341, 0.08226127456606226),\n",
       " (342, 0.16122923187750418),\n",
       " (343, 0.019252140716412975),\n",
       " (344, 0.029617443887954616),\n",
       " (345, 0.02294157338705618),\n",
       " (346, 0.0),\n",
       " (347, 0.0),\n",
       " (348, 0.06131393394849658),\n",
       " (349, 0.076004188790721),\n",
       " (350, 0.04891159880445185),\n",
       " (351, 0.0),\n",
       " (352, 0.02742042485535409),\n",
       " (353, 0.04120428217151646),\n",
       " (354, 0.021677749238103002),\n",
       " (355, 0.03650267163704923),\n",
       " (356, 0.09037128496931669),\n",
       " (357, 0.0),\n",
       " (358, 0.0602475233128778),\n",
       " (359, 0.031219527052723135),\n",
       " (360, 0.020942695414584774),\n",
       " (361, 0.07509392614826384),\n",
       " (362, 0.09544271444636668),\n",
       " (363, 0.09909250441117726),\n",
       " (364, 0.023414645289542353),\n",
       " (365, 0.07509392614826384),\n",
       " (366, 0.05647824947249051),\n",
       " (367, 0.0),\n",
       " (368, 0.12977713690461004),\n",
       " (369, 0.126673647984535),\n",
       " (370, 0.050669459193814),\n",
       " (371, 0.09567297464698798),\n",
       " (372, 0.047324852428030105),\n",
       " (373, 0.17292861596651865),\n",
       " (374, 0.03797316245786213),\n",
       " (375, 0.061313933948496574),\n",
       " (376, 0.046829290579084706),\n",
       " (377, 0.0),\n",
       " (378, 0.0),\n",
       " (379, 0.05073825686188038),\n",
       " (380, 0.05195243334661311),\n",
       " (381, 0.0837707816583391),\n",
       " (382, 0.0),\n",
       " (383, 0.043355498476206004),\n",
       " (384, 0.028676966733820218),\n",
       " (385, 0.0),\n",
       " (386, 0.021873931962990357),\n",
       " (387, 0.023918243661746996),\n",
       " (388, 0.0),\n",
       " (389, 0.08740748201220976),\n",
       " (390, 0.026315789473684213),\n",
       " (391, 0.056573571480353566),\n",
       " (392, 0.0301237616564389),\n",
       " (393, 0.0),\n",
       " (394, 0.024738534799764674),\n",
       " (395, 0.05195243334661311),\n",
       " (396, 0.043747863925980714),\n",
       " (397, 0.05195243334661311),\n",
       " (398, 0.0),\n",
       " (399, 0.023662426214015053),\n",
       " (400, 0.09037128496931669),\n",
       " (401, 0.03065696697424829),\n",
       " (402, 0.07792865001991967),\n",
       " (403, 0.0830812984794528),\n",
       " (404, 0.06131393394849658),\n",
       " (405, 0.05564148840746572),\n",
       " (406, 0.0207703246198632),\n",
       " (407, 0.021300716142115247),\n",
       " (408, 0.03244428422615251),\n",
       " (409, 0.0),\n",
       " (410, 0.0978231976089037),\n",
       " (411, 0.052631578947368425),\n",
       " (412, 0.09567297464698798),\n",
       " (413, 0.1411956236812263),\n",
       " (414, 0.029617443887954616),\n",
       " (415, 0.053418342734682205),\n",
       " (416, 0.050669459193814),\n",
       " (417, 0.03244428422615251),\n",
       " (418, 0.03539961627023944),\n",
       " (419, 0.06882472016116853),\n",
       " (420, 0.1124803176664619),\n",
       " (421, 0.023174488732966077),\n",
       " (422, 0.116543309349613),\n",
       " (423, 0.04120428217151646),\n",
       " (424, 0.036973693332326786),\n",
       " (425, 0.06390214842634574),\n",
       " (426, 0.05374307729250139),\n",
       " (427, 0.026315789473684213),\n",
       " (428, 0.055824219567359015),\n",
       " (429, 0.0),\n",
       " (430, 0.050669459193814),\n",
       " (431, 0.024182541670333724),\n",
       " (432, 0.11357771260606365),\n",
       " (433, 0.031219527052723135),\n",
       " (434, 0.0),\n",
       " (435, 0.03539961627023944),\n",
       " (436, 0.0),\n",
       " (437, 0.025649458802128853),\n",
       " (438, 0.12227899701112963),\n",
       " (439, 0.026315789473684213),\n",
       " (440, 0.024738534799764674),\n",
       " (441, 0.057353933467640436),\n",
       " (442, 0.04543108504242546),\n",
       " (443, 0.06390214842634574),\n",
       " (444, 0.0),\n",
       " (445, 0.0989541391990587),\n",
       " (446, 0.023174488732966077),\n",
       " (447, 0.06446025638903101),\n",
       " (448, 0.021300716142115247),\n",
       " (449, 0.10968169942141635),\n",
       " (450, 0.021300716142115247),\n",
       " (451, 0.025031308716087945),\n",
       " (452, 0.03065696697424829),\n",
       " (453, 0.024455799402225926),\n",
       " (454, 0.11587244366483038),\n",
       " (455, 0.060833032924035954),\n",
       " (456, 0.043355498476206004),\n",
       " (457, 0.08603090020146065),\n",
       " (458, 0.043355498476206004),\n",
       " (459, 0.03458572319330373),\n",
       " (460, 0.024182541670333724),\n",
       " (461, 0.1411956236812263),\n",
       " (462, 0.03260773253630123),\n",
       " (463, 0.03244428422615251),\n",
       " (464, 0.0),\n",
       " (465, 0.0),\n",
       " (466, 0.14509525002200233),\n",
       " (467, 0.10559715077387793),\n",
       " (468, 0.02782074420373286),\n",
       " (469, 0.05945550264670635),\n",
       " (470, 0.04543108504242546),\n",
       " (471, 0.06390214842634574),\n",
       " (472, 0.106676149412533),\n",
       " (473, 0.09269795493186431),\n",
       " (474, 0.0),\n",
       " (475, 0.043747863925980714),\n",
       " (476, 0.13530201829834768),\n",
       " (477, 0.0),\n",
       " (478, 0.05407380704358751),\n",
       " (479, 0.08797691788472335),\n",
       " (480, 0.0978231976089037),\n",
       " (481, 0.0),\n",
       " (482, 0.021873931962990357),\n",
       " (483, 0.12487810821089254),\n",
       " (484, 0.02913582733740325),\n",
       " (485, 0.052631578947368425),\n",
       " (486, 0.07992075789278004),\n",
       " (487, 0.12725695259515557),\n",
       " (488, 0.06657426652986062),\n",
       " (489, 0.0),\n",
       " (490, 0.14159846508095775),\n",
       " (491, 0.09909250441117726),\n",
       " (492, 0.076004188790721),\n",
       " (493, 0.03065696697424829),\n",
       " (494, 0.0),\n",
       " (495, 0.19088542889273336),\n",
       " (496, 0.0),\n",
       " (497, 0.0),\n",
       " (498, 0.06765100914917384),\n",
       " (499, 0.0),\n",
       " (500, 0.025976216673306556),\n",
       " (501, 0.08175191193132876),\n",
       " (502, 0.13497638119975428),\n",
       " (503, 0.07509392614826384),\n",
       " (504, 0.0),\n",
       " (505, 0.13530201829834768),\n",
       " (506, 0.03458572319330373),\n",
       " (507, 0.255608593705383),\n",
       " (508, 0.101338918387628),\n",
       " (509, 0.022075539284417398),\n",
       " (510, 0.0989541391990587),\n",
       " (511, 0.09197090092274487),\n",
       " (512, 0.02742042485535409),\n",
       " (513, 0.14843120879858804),\n",
       " (514, 0.04947706959952935),\n",
       " (515, 0.024738534799764674),\n",
       " (516, 0.028239124736245257),\n",
       " (517, 0.0),\n",
       " (518, 0.043747863925980714),\n",
       " (519, 0.0),\n",
       " (520, 0.0),\n",
       " (521, 0.025031308716087945),\n",
       " (522, 0.024182541670333724),\n",
       " (523, 0.04836508334066745),\n",
       " (524, 0.0),\n",
       " (525, 0.047324852428030105),\n",
       " (526, 0.028239124736245257),\n",
       " (527, 0.0331133089266261),\n",
       " (528, 0.022282825891079324),\n",
       " (529, 0.16742770563222897),\n",
       " (530, 0.05564148840746572),\n",
       " (531, 0.046348977465932154),\n",
       " (532, 0.021300716142115247),\n",
       " (533, 0.0602475233128778),\n",
       " (534, 0.0837707816583391),\n",
       " (535, 0.0978231976089037),\n",
       " (536, 0.1124803176664619),\n",
       " (537, 0.06765100914917384),\n",
       " (538, 0.0),\n",
       " (539, 0.25038669783359574),\n",
       " (540, 0.07509392614826384),\n",
       " (541, 0.10559715077387793),\n",
       " (542, 0.03721614637823934),\n",
       " (543, 0.07098727864204515),\n",
       " (544, 0.05564148840746572),\n",
       " (545, 0.024738534799764674),\n",
       " (546, 0.06362847629757779),\n",
       " (547, 0.08346223261119858),\n",
       " (548, 0.0),\n",
       " (549, 0.11959121830873498),\n",
       " (550, 0.024738534799764674),\n",
       " (551, 0.03771571432023571),\n",
       " (552, 0.0),\n",
       " (553, 0.028676966733820218),\n",
       " (554, 0.0),\n",
       " (555, 0.04499212706658475),\n",
       " (556, 0.02666903735313325),\n",
       " (557, 0.12227899701112963),\n",
       " (558, 0.0),\n",
       " (559, 0.0301237616564389),\n",
       " (560, 0.03604920469572501),\n",
       " (561, 0.03181423814878889),\n",
       " (562, 0.03065696697424829),\n",
       " (563, 0.025649458802128853),\n",
       " (564, 0.08885233166386385),\n",
       " (565, 0.043355498476206004),\n",
       " (566, 0.023918243661746996),\n",
       " (567, 0.025031308716087945),\n",
       " (568, 0.1411956236812263),\n",
       " (569, 0.047324852428030105),\n",
       " (570, 0.06765100914917384),\n",
       " (571, 0.04223886030955117),\n",
       " (572, 0.10743376064838502),\n",
       " (573, 0.0207703246198632),\n",
       " (574, 0.023414645289542353),\n",
       " (575, 0.04543108504242546),\n",
       " (576, 0.05195243334661311),\n",
       " (577, 0.1976738731537168),\n",
       " (578, 0.037463432463267755),\n",
       " (579, 0.14567913668701626),\n",
       " (580, 0.024182541670333724),\n",
       " (581, 0.14567913668701626),\n",
       " (582, 0.24511108480187255),\n",
       " (583, 0.03771571432023571),\n",
       " (584, 0.08111071056538127),\n",
       " (585, 0.024455799402225926),\n",
       " (586, 0.04499212706658476),\n",
       " (587, 0.09464970485606021),\n",
       " (588, 0.025649458802128853),\n",
       " (589, 0.1163350101494222),\n",
       " (590, 0.0301237616564389),\n",
       " (591, 0.06282808624375433),\n",
       " (592, 0.021119430154775586),\n",
       " (593, 0.0),\n",
       " (594, 0.04947706959952935),\n",
       " (595, 0.16059101370939324),\n",
       " (596, 0.09269795493186431),\n",
       " (597, 0.05923488777590923),\n",
       " (598, 0.03627381250550058),\n",
       " (599, 0.02742042485535409),\n",
       " (600, 0.06882472016116853),\n",
       " (601, 0.033463724070512735),\n",
       " (602, 0.09086217008485092),\n",
       " (603, 0.05407380704358751),\n",
       " (604, 0.06488856845230502),\n",
       " (605, 0.025031308716087945),\n",
       " (606, 0.0),\n",
       " (607, 0.05775642214923893),\n",
       " (608, 0.0),\n",
       " (609, 0.046829290579084706),\n",
       " (610, 0.058038100008800934),\n",
       " (611, 0.023174488732966077),\n",
       " (612, 0.06335829046432676),\n",
       " (613, 0.03539961627023944),\n",
       " (614, 0.04891159880445185),\n",
       " (615, 0.06131393394849658),\n",
       " (616, 0.03458572319330373),\n",
       " (617, 0.05006261743217589),\n",
       " (618, 0.08830215713766959),\n",
       " (619, 0.0),\n",
       " (620, 0.0),\n",
       " (621, 0.06488856845230502),\n",
       " (622, 0.021300716142115247),\n",
       " (623, 0.0),\n",
       " (624, 0.10147651372376076),\n",
       " (625, 0.031219527052723135),\n",
       " (626, 0.08226127456606226),\n",
       " (627, 0.10882143751650175),\n",
       " (628, 0.0),\n",
       " (629, 0.04836508334066745),\n",
       " (630, 0.024455799402225926),\n",
       " (631, 0.050669459193814),\n",
       " (632, 0.07694837640638656),\n",
       " (633, 0.022282825891079324),\n",
       " (634, 0.07254762501100118),\n",
       " (635, 0.06622661785325219),\n",
       " (636, 0.023414645289542353),\n",
       " (637, 0.024182541670333724),\n",
       " (638, 0.03382550457458692),\n",
       " (639, 0.0),\n",
       " (640, 0.05990422978731538),\n",
       " (641, 0.0),\n",
       " (642, 0.0),\n",
       " (643, 0.10012523486435178),\n",
       " (644, 0.05006261743217589),\n",
       " (645, 0.044151078568834795),\n",
       " (646, 0.05407380704358751),\n",
       " (647, 0.04836508334066745),\n",
       " (648, 0.0301237616564389),\n",
       " (649, 0.0),\n",
       " (650, 0.05195243334661311),\n",
       " (651, 0.0),\n",
       " (652, 0.042973504259354006),\n",
       " (653, 0.10882143751650175),\n",
       " (654, 0.10385162309931599),\n",
       " (655, 0.023918243661746996),\n",
       " (656, 0.0),\n",
       " (657, 0.03458572319330373),\n",
       " (658, 0.04836508334066745),\n",
       " (659, 0.025334729596907),\n",
       " (660, 0.09365858115816941),\n",
       " (661, 0.1661625969589056),\n",
       " (662, 0.0),\n",
       " (663, 0.0),\n",
       " (664, 0.0602475233128778),\n",
       " (665, 0.07098727864204515),\n",
       " (666, 0.05006261743217589),\n",
       " (667, 0.0),\n",
       " (668, 0.13530201829834768),\n",
       " (669, 0.03539961627023944),\n",
       " (670, 0.01749278571353299),\n",
       " (671, 0.06814662756363819),\n",
       " (672, 0.028239124736245257),\n",
       " (673, 0.019968076595771794),\n",
       " (674, 0.07098727864204515),\n",
       " (675, 0.04499212706658476),\n",
       " (676, 0.028676966733820218),\n",
       " (677, 0.025031308716087945),\n",
       " (678, 0.116543309349613),\n",
       " (679, 0.0),\n",
       " (680, 0.07509392614826384),\n",
       " (681, 0.02742042485535409),\n",
       " (682, 0.019968076595771794),\n",
       " (683, 0.04836508334066745),\n",
       " (684, 0.0),\n",
       " (685, 0.03244428422615251),\n",
       " (686, 0.03181423814878889),\n",
       " (687, 0.10390486669322622),\n",
       " (688, 0.043355498476206004),\n",
       " (689, 0.0),\n",
       " (690, 0.025031308716087945),\n",
       " (691, 0.05923488777590923),\n",
       " (692, 0.10936965981495178),\n",
       " (693, 0.03382550457458692),\n",
       " (694, 0.021873931962990357),\n",
       " (695, 0.0662266178532522),\n",
       " (696, 0.021486752129677003),\n",
       " (697, 0.0),\n",
       " (698, 0.043355498476206004),\n",
       " (699, 0.03823595564509363),\n",
       " (700, 0.028676966733820218),\n",
       " (701, 0.057353933467640436),\n",
       " (702, 0.02249606353329238),\n",
       " (703, 0.021486752129677003),\n",
       " (704, 0.06814662756363819),\n",
       " (705, 0.024455799402225926),\n",
       " (706, 0.021677749238103002),\n",
       " (707, 0.0),\n",
       " (708, 0.024738534799764674),\n",
       " (709, 0.02060214108575823),\n",
       " (710, 0.05775642214923893),\n",
       " (711, 0.052631578947368425),\n",
       " (712, 0.0),\n",
       " (713, 0.024738534799764674),\n",
       " (714, 0.0),\n",
       " (715, 0.09933992677987831),\n",
       " (716, 0.02742042485535409),\n",
       " (717, 0.0),\n",
       " (718, 0.04499212706658476),\n",
       " (719, 0.0),\n",
       " (720, 0.026315789473684213),\n",
       " (721, 0.03244428422615251),\n",
       " (722, 0.0),\n",
       " (723, 0.024455799402225926),\n",
       " (724, 0.023662426214015053),\n",
       " (725, 0.0),\n",
       " (726, 0.0),\n",
       " (727, 0.030794751789719334),\n",
       " (728, 0.07254762501100118),\n",
       " (729, 0.04891159880445185),\n",
       " (730, 0.030254451040802585),\n",
       " (731, 0.05195243334661311),\n",
       " (732, 0.06814662756363819),\n",
       " (733, 0.061313933948496574),\n",
       " (734, 0.06684847767323797),\n",
       " (735, 0.06684847767323797),\n",
       " (736, 0.029617443887954616),\n",
       " (737, 0.07694837640638656),\n",
       " (738, 0.0),\n",
       " (739, 0.03823595564509363),\n",
       " (740, 0.10838874619051501),\n",
       " (741, 0.05564148840746572),\n",
       " (742, 0.0301237616564389),\n",
       " (743, 0.023174488732966077),\n",
       " (744, 0.06488856845230502),\n",
       " (745, 0.08740748201220976),\n",
       " (746, 0.06446025638903101),\n",
       " (747, 0.039344473768231684),\n",
       " (748, 0.03627381250550058),\n",
       " (749, 0.0),\n",
       " (750, 0.042601432284230495),\n",
       " (751, 0.03181423814878889),\n",
       " (752, 0.08749572785196143),\n",
       " (753, 0.02742042485535409),\n",
       " (754, 0.12515654358043973),\n",
       " (755, 0.05695974368679319),\n",
       " (756, 0.028676966733820218),\n",
       " (757, 0.024182541670333724),\n",
       " (758, 0.02271554252121273),\n",
       " (759, 0.0),\n",
       " (760, 0.0),\n",
       " (761, 0.028239124736245257),\n",
       " (762, 0.05923488777590923),\n",
       " (763, 0.0),\n",
       " (764, 0.02782074420373286),\n",
       " (765, 0.025031308716087945),\n",
       " (766, 0.025334729596907),\n",
       " (767, 0.046829290579084706),\n",
       " (768, 0.060833032924035954),\n",
       " (769, 0.031219527052723135),\n",
       " (770, 0.042973504259354006),\n",
       " (771, 0.0),\n",
       " (772, 0.0),\n",
       " (773, 0.12725695259515557),\n",
       " (774, 0.039344473768231684),\n",
       " (775, 0.08603090020146065),\n",
       " (776, 0.07868894753646337),\n",
       " (777, 0.13369695534647594),\n",
       " (778, 0.23174488732966073),\n",
       " (779, 0.0),\n",
       " (780, 0.0),\n",
       " (781, 0.1204950466257556),\n",
       " (782, 0.06952346619889824),\n",
       " (783, 0.03244428422615251),\n",
       " (784, 0.07175473098524099),\n",
       " (785, 0.09243423333081695),\n",
       " (786, 0.10814761408717502),\n",
       " (787, 0.08226127456606226),\n",
       " (788, 0.046829290579084706),\n",
       " (789, 0.0),\n",
       " (790, 0.07209840939145001),\n",
       " (791, 0.09733285267845754),\n",
       " (792, 0.050669459193814),\n",
       " (793, 0.050669459193814),\n",
       " (794, 0.08740748201220976),\n",
       " (795, 0.021873931962990357),\n",
       " (796, 0.0),\n",
       " (797, 0.03627381250550058),\n",
       " (798, 0.0),\n",
       " (799, 0.09183979479633063),\n",
       " (800, 0.07443229275647868),\n",
       " (801, 0.0),\n",
       " (802, 0.0),\n",
       " (803, 0.047324852428030105),\n",
       " (804, 0.051298917604257706),\n",
       " (805, 0.05407380704358751),\n",
       " (806, 0.04499212706658476),\n",
       " (807, 0.0533380747062665),\n",
       " (808, 0.11164843913471803),\n",
       " (809, 0.019389168358237032),\n",
       " (810, 0.028239124736245257),\n",
       " (811, 0.020942695414584774),\n",
       " (812, 0.08111071056538127),\n",
       " (813, 0.09269795493186431),\n",
       " (814, 0.10526315789473685),\n",
       " (815, 0.020121090914638345),\n",
       " (816, 0.04783648732349399),\n",
       " (817, 0.027036903521793755),\n",
       " (818, 0.024455799402225926),\n",
       " (819, 0.0),\n",
       " (820, 0.01583118967153259),\n",
       " (821, 0.015907119074394446),\n",
       " (822, 0.020942695414584774),\n",
       " (823, 0.04783648732349399),\n",
       " (824, 0.0),\n",
       " (825, 0.0),\n",
       " (826, 0.0301237616564389),\n",
       " (827, 0.08671099695241201),\n",
       " (828, 0.025649458802128853),\n",
       " (829, 0.0),\n",
       " (830, 0.027036903521793755),\n",
       " (831, 0.047324852428030105),\n",
       " (832, 0.025976216673306556),\n",
       " (833, 0.07254762501100118),\n",
       " (834, 0.046829290579084706),\n",
       " (835, 0.025334729596907),\n",
       " (836, 0.061806423257274694),\n",
       " (837, 0.05564148840746572),\n",
       " (838, 0.1540171257313038),\n",
       " (839, 0.0),\n",
       " (840, 0.057353933467640436),\n",
       " (841, 0.023414645289542353),\n",
       " (842, 0.0),\n",
       " (843, 0.13518451760896877),\n",
       " (844, 0.05195243334661311),\n",
       " (845, 0.0),\n",
       " (846, 0.019252140716412975),\n",
       " (847, 0.04757860680698066),\n",
       " (848, 0.036973693332326786),\n",
       " (849, 0.0),\n",
       " (850, 0.07647191129018727),\n",
       " (851, 0.025334729596907),\n",
       " (852, 0.021300716142115247),\n",
       " (853, 0.02913582733740325),\n",
       " (854, 0.08000711205939975),\n",
       " (855, 0.04891159880445185),\n",
       " (856, 0.023918243661746996),\n",
       " (857, 0.0),\n",
       " (858, 0.03627381250550058),\n",
       " (859, 0.13710212427677043),\n",
       " (860, 0.0518785847899556),\n",
       " (861, 0.02043797798283219),\n",
       " (862, 0.052631578947368425),\n",
       " (863, 0.06131393394849658),\n",
       " (864, 0.03850428143282595),\n",
       " (865, 0.0),\n",
       " (866, 0.08111071056538127),\n",
       " (867, 0.0),\n",
       " (868, 0.0207703246198632),\n",
       " (869, 0.05006261743217589),\n",
       " (870, 0.11959121830873498),\n",
       " (871, 0.04947706959952935),\n",
       " (872, 0.0),\n",
       " (873, 0.04188539082916955),\n",
       " (874, 0.025649458802128853),\n",
       " (875, 0.050669459193814),\n",
       " (876, 0.0),\n",
       " (877, 0.0),\n",
       " (878, 0.09733285267845754),\n",
       " (879, 0.0),\n",
       " (880, 0.031219527052723135),\n",
       " (881, 0.0),\n",
       " (882, 0.027036903521793755),\n",
       " (883, 0.025334729596907),\n",
       " (884, 0.0),\n",
       " (885, 0.07421560439929402),\n",
       " (886, 0.023174488732966077),\n",
       " (887, 0.03439087249804545),\n",
       " (888, 0.047324852428030105),\n",
       " (889, 0.11243619908556624),\n",
       " (890, 0.0),\n",
       " (891, 0.043355498476206004),\n",
       " (892, 0.0),\n",
       " (893, 0.016731862035256367),\n",
       " (894, 0.08471737420873576),\n",
       " (895, 0.0),\n",
       " (896, 0.0),\n",
       " (897, 0.039344473768231684),\n",
       " (898, 0.0978231976089037),\n",
       " (899, 0.08000711205939975),\n",
       " (900, 0.11959121830873498),\n",
       " (901, 0.08111071056538127),\n",
       " (902, 0.023174488732966077),\n",
       " (903, 0.031219527052723135),\n",
       " (904, 0.02060214108575823),\n",
       " (905, 0.0),\n",
       " (906, 0.0),\n",
       " (907, 0.023414645289542353),\n",
       " (908, 0.07336739820667779),\n",
       " (909, 0.0),\n",
       " (910, 0.019968076595771794),\n",
       " (911, 0.023662426214015053),\n",
       " (912, 0.0331133089266261),\n",
       " (913, 0.0),\n",
       " (914, 0.03721614637823934),\n",
       " (915, 0.02666903735313325),\n",
       " (916, 0.03458572319330373),\n",
       " (917, 0.028676966733820218),\n",
       " (918, 0.0),\n",
       " (919, 0.021677749238103002),\n",
       " (920, 0.09365858115816941),\n",
       " (921, 0.0),\n",
       " (922, 0.07792865001991967),\n",
       " (923, 0.0),\n",
       " (924, 0.0),\n",
       " (925, 0.019968076595771794),\n",
       " (926, 0.0),\n",
       " (927, 0.0),\n",
       " (928, 0.0),\n",
       " (929, 0.05195243334661311),\n",
       " (930, 0.04836508334066745),\n",
       " (931, 0.1748149640244195),\n",
       " (932, 0.07175473098524099),\n",
       " (933, 0.07175473098524099),\n",
       " (934, 0.029617443887954616),\n",
       " (935, 0.13530201829834768),\n",
       " (936, 0.0),\n",
       " (937, 0.126673647984535),\n",
       " (938, 0.026315789473684213),\n",
       " (939, 0.1068366854693644),\n",
       " (940, 0.0),\n",
       " (941, 0.0301237616564389),\n",
       " (942, 0.19134594929397597),\n",
       " (943, 0.0),\n",
       " (944, 0.0),\n",
       " (945, 0.06131393394849658),\n",
       " (946, 0.024455799402225926),\n",
       " (947, 0.0),\n",
       " (948, 0.0),\n",
       " (949, 0.0),\n",
       " (950, 0.03721614637823934),\n",
       " (951, 0.06362847629757779),\n",
       " (952, 0.025334729596907),\n",
       " (953, 0.02249606353329238),\n",
       " (954, 0.0),\n",
       " (955, 0.026315789473684213),\n",
       " (956, 0.050669459193814),\n",
       " (957, 0.06243905410544627),\n",
       " (958, 0.024455799402225926),\n",
       " (959, 0.025334729596907),\n",
       " (960, 0.08740748201220976),\n",
       " (961, 0.05006261743217589),\n",
       " (962, 0.024182541670333724),\n",
       " (963, 0.0623109738595896),\n",
       " (964, 0.026315789473684213),\n",
       " (965, 0.0),\n",
       " (966, 0.0),\n",
       " (967, 0.03721614637823934),\n",
       " (968, 0.0),\n",
       " (969, 0.05775642214923893),\n",
       " (970, 0.0301237616564389),\n",
       " (971, 0.03244428422615251),\n",
       " (972, 0.2108663315950723),\n",
       " (973, 0.19767387315371682),\n",
       " (974, 0.028676966733820218),\n",
       " (975, 0.0),\n",
       " (976, 0.0),\n",
       " (977, 0.07175473098524099),\n",
       " (978, 0.09197090092274487),\n",
       " (979, 0.04499212706658476),\n",
       " (980, 0.0207703246198632),\n",
       " (981, 0.0),\n",
       " (982, 0.0582716546748065),\n",
       " (983, 0.032283269414765066),\n",
       " (984, 0.0),\n",
       " (985, 0.05484084971070818),\n",
       " (986, 0.10012523486435178),\n",
       " (987, 0.05923488777590923),\n",
       " (988, 0.0),\n",
       " (989, 0.0331133089266261),\n",
       " (990, 0.0415406492397264),\n",
       " (991, 0.0602475233128778),\n",
       " (992, 0.0),\n",
       " (993, 0.07443229275647868),\n",
       " (994, 0.05564148840746572),\n",
       " (995, 0.09086217008485092),\n",
       " (996, 0.0602475233128778),\n",
       " (997, 0.0),\n",
       " (998, 0.0),\n",
       " (999, 0.0),\n",
       " ...]"
      ]
     },
     "execution_count": 64,
     "metadata": {},
     "output_type": "execute_result"
    }
   ],
   "source": [
    "list(enumerate(similarity[0]))"
   ]
  },
  {
   "cell_type": "code",
   "execution_count": 65,
   "id": "ae6cb8bb-a63a-43ad-a54f-3a225f33442a",
   "metadata": {},
   "outputs": [],
   "source": [
    "def recommend(movie):\n",
    "    movie_index = movies_2[movies_2['title'] == movie].index[0]\n",
    "    distances = similarity[movie_index]\n",
    "    movies_list = sorted(list(enumerate(distances)) , reverse=True, key=lambda x: x[1])[1:6]\n",
    "\n",
    "    for i in movies_list:\n",
    "        print(movies_2.iloc[i[0]].title)\n",
    "    "
   ]
  },
  {
   "cell_type": "code",
   "execution_count": 66,
   "id": "297c11c6-3e8e-4a59-a0d3-cfc1fb2f81d0",
   "metadata": {},
   "outputs": [
    {
     "name": "stdout",
     "output_type": "stream",
     "text": [
      "Aliens vs Predator: Requiem\n",
      "Aliens\n",
      "Falcon Rising\n",
      "Independence Day\n",
      "Titan A.E.\n"
     ]
    }
   ],
   "source": [
    "recommend('Avatar')"
   ]
  },
  {
   "cell_type": "code",
   "execution_count": 67,
   "id": "ba1c8015-65ce-46d7-bc21-74fc8f5b9db6",
   "metadata": {},
   "outputs": [
    {
     "name": "stdout",
     "output_type": "stream",
     "text": [
      "Batman\n",
      "Batman & Robin\n",
      "Batman Begins\n",
      "Batman Returns\n",
      "The R.M.\n"
     ]
    }
   ],
   "source": [
    "recommend('Batman')"
   ]
  },
  {
   "cell_type": "code",
   "execution_count": 69,
   "id": "1965121b-8de6-4100-ac43-18cb154c71bb",
   "metadata": {},
   "outputs": [],
   "source": [
    "import pickle"
   ]
  },
  {
   "cell_type": "code",
   "execution_count": 70,
   "id": "69361b2e-bd7a-40fb-884b-4ba95a264b9a",
   "metadata": {},
   "outputs": [],
   "source": [
    "pickle.dump(movies_2.to_dict(),open('movie_dict.pkl', 'wb'))"
   ]
  },
  {
   "cell_type": "code",
   "execution_count": 71,
   "id": "a01f5db2-2238-426e-9054-5802a7c224d5",
   "metadata": {},
   "outputs": [],
   "source": [
    "pickle.dump(similarity,open('similarity.pkl', 'wb'))\n"
   ]
  },
  {
   "cell_type": "code",
   "execution_count": 73,
   "id": "068a453f-c148-4494-84a2-b0867749c03d",
   "metadata": {},
   "outputs": [],
   "source": [
    "def recommend_2(movie):\n",
    "    movie_index = movies_2[movies_2['title'] == movie].index[0]\n",
    "    distances = similarity[movie_index]\n",
    "    movies_list = sorted(list(enumerate(distances)) , reverse=True, key=lambda x: x[1])[1:6]\n",
    "\n",
    "    for i in movies_list:\n",
    "        print(movies_2.iloc[i[0]].title ,movies_2.iloc[i[0]] )\n",
    "    "
   ]
  },
  {
   "cell_type": "code",
   "execution_count": 74,
   "id": "cc69b497-2591-442c-b8a8-420cd04ae453",
   "metadata": {},
   "outputs": [
    {
     "name": "stdout",
     "output_type": "stream",
     "text": [
      "Batman movie_id                                                 2661\n",
      "title                                                  Batman\n",
      "tags        the dark knight of gotham citi begin hi war on...\n",
      "Name: 1361, dtype: object\n",
      "Batman & Robin movie_id                                                  415\n",
      "title                                          Batman & Robin\n",
      "tags        along with crime-fight partner robin and new r...\n",
      "Name: 210, dtype: object\n",
      "Batman Begins movie_id                                                  272\n",
      "title                                           Batman Begins\n",
      "tags        driven by tragedy, billionair bruce wayn dedic...\n",
      "Name: 119, dtype: object\n",
      "Batman Returns movie_id                                                  364\n",
      "title                                          Batman Returns\n",
      "tags        have defeat the joker, batman now face the pen...\n",
      "Name: 428, dtype: object\n",
      "The R.M. movie_id                                                36825\n",
      "title                                                The R.M.\n",
      "tags        jare phelp (kirbi heyborne) ha complet two yea...\n",
      "Name: 4532, dtype: object\n"
     ]
    }
   ],
   "source": [
    "recommend_2('Batman')\n"
   ]
  },
  {
   "cell_type": "code",
   "execution_count": null,
   "id": "3d0d2406-42ca-4b47-866c-ec647e5941ee",
   "metadata": {},
   "outputs": [],
   "source": []
  }
 ],
 "metadata": {
  "kernelspec": {
   "display_name": "Python 3 (ipykernel)",
   "language": "python",
   "name": "python3"
  },
  "language_info": {
   "codemirror_mode": {
    "name": "ipython",
    "version": 3
   },
   "file_extension": ".py",
   "mimetype": "text/x-python",
   "name": "python",
   "nbconvert_exporter": "python",
   "pygments_lexer": "ipython3",
   "version": "3.12.3"
  }
 },
 "nbformat": 4,
 "nbformat_minor": 5
}
